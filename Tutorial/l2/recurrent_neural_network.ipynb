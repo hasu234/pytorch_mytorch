{
 "cells": [
  {
   "cell_type": "code",
   "execution_count": 3,
   "id": "c18c4fb2-5b63-456e-a579-d1c531379ebd",
   "metadata": {},
   "outputs": [],
   "source": [
    "import torch \n",
    "import torch.nn as nn\n",
    "import torchvision\n",
    "import torchvision.transforms as transforms"
   ]
  },
  {
   "cell_type": "code",
   "execution_count": 2,
   "id": "cc8ddadc-6484-42cc-a930-7e546af16618",
   "metadata": {},
   "outputs": [],
   "source": [
    "# Device configuration\n",
    "device = torch.device('cuda' if torch.cuda.is_available() else 'cpu')"
   ]
  },
  {
   "cell_type": "code",
   "execution_count": 18,
   "id": "dca480f5-3e33-450a-823d-84df23a7b77e",
   "metadata": {},
   "outputs": [],
   "source": [
    "# Hyper-parameters\n",
    "sequence_length = 28\n",
    "input_size = 28\n",
    "hidden_size = 128\n",
    "num_layers = 2\n",
    "num_classes = 10\n",
    "batch_size = 100\n",
    "num_epochs = 5\n",
    "learning_rate = 0.01"
   ]
  },
  {
   "cell_type": "code",
   "execution_count": 6,
   "id": "339c53e7-c17e-484b-9b1e-f3aabdf8873e",
   "metadata": {},
   "outputs": [],
   "source": [
    "# MNIST dataset\n",
    "train_dataset = torchvision.datasets.MNIST(root='/home/hasu/Documents/github/content/MNIST/',\n",
    "                                           train=True, \n",
    "                                           transform=transforms.ToTensor(),\n",
    "                                           download=True)\n",
    "\n",
    "test_dataset = torchvision.datasets.MNIST(root='/home/hasu/Documents/github/content/MNIST/',\n",
    "                                          train=False, \n",
    "                                          transform=transforms.ToTensor())\n"
   ]
  },
  {
   "cell_type": "code",
   "execution_count": 8,
   "id": "7d0d95eb-7492-47f7-9a61-0eb7633d8dca",
   "metadata": {},
   "outputs": [],
   "source": [
    "# Data loader\n",
    "train_loader = torch.utils.data.DataLoader(dataset=train_dataset,\n",
    "                                           batch_size=batch_size, \n",
    "                                           shuffle=True)\n",
    "\n",
    "test_loader = torch.utils.data.DataLoader(dataset=test_dataset,\n",
    "                                          batch_size=batch_size, \n",
    "                                          shuffle=False)"
   ]
  },
  {
   "cell_type": "code",
   "execution_count": 9,
   "id": "d4165f96-1c95-43f1-8b17-90971a3487ff",
   "metadata": {},
   "outputs": [
    {
     "data": {
      "text/plain": [
       "600"
      ]
     },
     "execution_count": 9,
     "metadata": {},
     "output_type": "execute_result"
    }
   ],
   "source": [
    "len(train_loader)"
   ]
  },
  {
   "cell_type": "code",
   "execution_count": 10,
   "id": "e446e59e-386d-4630-8d00-12ce90fefee4",
   "metadata": {},
   "outputs": [],
   "source": [
    "# Recurrent neural network (many-to-one)\n",
    "class RNN(nn.Module):\n",
    "    def __init__(self, input_size, hidden_size, num_layers, num_classes):\n",
    "        super(RNN, self).__init__()\n",
    "        self.hidden_size = hidden_size\n",
    "        self.num_layers = num_layers\n",
    "        self.lstm = nn.LSTM(input_size, hidden_size, num_layers, batch_first=True)\n",
    "        self.fc = nn.Linear(hidden_size, num_classes)\n",
    "    \n",
    "    def forward(self, x):\n",
    "        # Set initial hidden and cell states \n",
    "        h0 = torch.zeros(self.num_layers, x.size(0), self.hidden_size).to(device) \n",
    "        c0 = torch.zeros(self.num_layers, x.size(0), self.hidden_size).to(device)\n",
    "        \n",
    "        # Forward propagate LSTM\n",
    "        out, _ = self.lstm(x, (h0, c0))  # out: tensor of shape (batch_size, seq_length, hidden_size)\n",
    "        \n",
    "        # Decode the hidden state of the last time step\n",
    "        out = self.fc(out[:, -1, :])\n",
    "        return out"
   ]
  },
  {
   "cell_type": "code",
   "execution_count": 11,
   "id": "13c23f10-a5be-4aed-8453-0662e42f8bfc",
   "metadata": {},
   "outputs": [],
   "source": [
    "model = RNN(input_size, hidden_size, num_layers, num_classes).to(device)"
   ]
  },
  {
   "cell_type": "code",
   "execution_count": 12,
   "id": "8517d8a5-a6cb-474b-b107-0bec687e7129",
   "metadata": {},
   "outputs": [],
   "source": [
    "# Loss and optimizer\n",
    "criterion = nn.CrossEntropyLoss()\n",
    "optimizer = torch.optim.Adam(model.parameters(), lr=learning_rate)"
   ]
  },
  {
   "cell_type": "code",
   "execution_count": 16,
   "id": "5e95ad61-2637-45af-81e8-c4224f88671f",
   "metadata": {},
   "outputs": [
    {
     "name": "stdout",
     "output_type": "stream",
     "text": [
      "Epoch [1/10], Step [100/600], Loss: 0.0347\n",
      "Epoch [1/10], Step [200/600], Loss: 0.0505\n",
      "Epoch [1/10], Step [300/600], Loss: 0.0355\n",
      "Epoch [1/10], Step [400/600], Loss: 0.0293\n",
      "Epoch [1/10], Step [500/600], Loss: 0.0620\n",
      "Epoch [1/10], Step [600/600], Loss: 0.0084\n",
      "Epoch [2/10], Step [100/600], Loss: 0.1426\n",
      "Epoch [2/10], Step [200/600], Loss: 0.0205\n",
      "Epoch [2/10], Step [300/600], Loss: 0.0828\n",
      "Epoch [2/10], Step [400/600], Loss: 0.0341\n",
      "Epoch [2/10], Step [500/600], Loss: 0.0470\n",
      "Epoch [2/10], Step [600/600], Loss: 0.0839\n",
      "Epoch [3/10], Step [100/600], Loss: 0.0403\n",
      "Epoch [3/10], Step [200/600], Loss: 0.0158\n",
      "Epoch [3/10], Step [300/600], Loss: 0.0620\n",
      "Epoch [3/10], Step [400/600], Loss: 0.0589\n",
      "Epoch [3/10], Step [500/600], Loss: 0.0248\n",
      "Epoch [3/10], Step [600/600], Loss: 0.1668\n",
      "Epoch [4/10], Step [100/600], Loss: 0.0619\n",
      "Epoch [4/10], Step [200/600], Loss: 0.0543\n",
      "Epoch [4/10], Step [300/600], Loss: 0.0430\n",
      "Epoch [4/10], Step [400/600], Loss: 0.0694\n",
      "Epoch [4/10], Step [500/600], Loss: 0.0095\n",
      "Epoch [4/10], Step [600/600], Loss: 0.1037\n",
      "Epoch [5/10], Step [100/600], Loss: 0.1006\n",
      "Epoch [5/10], Step [200/600], Loss: 0.0043\n",
      "Epoch [5/10], Step [300/600], Loss: 0.0631\n",
      "Epoch [5/10], Step [400/600], Loss: 0.0267\n",
      "Epoch [5/10], Step [500/600], Loss: 0.0129\n",
      "Epoch [5/10], Step [600/600], Loss: 0.0470\n",
      "Epoch [6/10], Step [100/600], Loss: 0.0189\n",
      "Epoch [6/10], Step [200/600], Loss: 0.0351\n",
      "Epoch [6/10], Step [300/600], Loss: 0.0912\n",
      "Epoch [6/10], Step [400/600], Loss: 0.0792\n",
      "Epoch [6/10], Step [500/600], Loss: 0.1065\n",
      "Epoch [6/10], Step [600/600], Loss: 0.0736\n",
      "Epoch [7/10], Step [100/600], Loss: 0.0624\n",
      "Epoch [7/10], Step [200/600], Loss: 0.0074\n",
      "Epoch [7/10], Step [300/600], Loss: 0.0772\n",
      "Epoch [7/10], Step [400/600], Loss: 0.0052\n",
      "Epoch [7/10], Step [500/600], Loss: 0.0565\n",
      "Epoch [7/10], Step [600/600], Loss: 0.0633\n",
      "Epoch [8/10], Step [100/600], Loss: 0.0226\n",
      "Epoch [8/10], Step [200/600], Loss: 0.0314\n",
      "Epoch [8/10], Step [300/600], Loss: 0.0678\n",
      "Epoch [8/10], Step [400/600], Loss: 0.2536\n",
      "Epoch [8/10], Step [500/600], Loss: 0.1084\n",
      "Epoch [8/10], Step [600/600], Loss: 0.0779\n",
      "Epoch [9/10], Step [100/600], Loss: 0.0082\n",
      "Epoch [9/10], Step [200/600], Loss: 0.1337\n",
      "Epoch [9/10], Step [300/600], Loss: 0.0231\n",
      "Epoch [9/10], Step [400/600], Loss: 0.0599\n",
      "Epoch [9/10], Step [500/600], Loss: 0.1147\n",
      "Epoch [9/10], Step [600/600], Loss: 0.2175\n",
      "Epoch [10/10], Step [100/600], Loss: 0.6607\n",
      "Epoch [10/10], Step [200/600], Loss: 0.2526\n",
      "Epoch [10/10], Step [300/600], Loss: 0.2198\n",
      "Epoch [10/10], Step [400/600], Loss: 0.5110\n",
      "Epoch [10/10], Step [500/600], Loss: 0.3563\n",
      "Epoch [10/10], Step [600/600], Loss: 0.3343\n"
     ]
    }
   ],
   "source": [
    "# Train the model\n",
    "total_step = len(train_loader)\n",
    "for epoch in range(num_epochs):\n",
    "    for i, (images, labels) in enumerate(train_loader):\n",
    "        images = images.reshape(-1, sequence_length, input_size).to(device)\n",
    "        labels = labels.to(device)\n",
    "        \n",
    "        # Forward pass\n",
    "        outputs = model(images)\n",
    "        loss = criterion(outputs, labels)\n",
    "        \n",
    "        # Backward and optimize\n",
    "        optimizer.zero_grad()\n",
    "        loss.backward()\n",
    "        optimizer.step()\n",
    "        \n",
    "        if (i+1) % 100 == 0:\n",
    "            print ('Epoch [{}/{}], Step [{}/{}], Loss: {:.4f}' \n",
    "                   .format(epoch+1, num_epochs, i+1, total_step, loss.item()))"
   ]
  },
  {
   "cell_type": "code",
   "execution_count": 17,
   "id": "f5f768bf-2c42-48af-afc2-dc428d0f33e6",
   "metadata": {},
   "outputs": [
    {
     "name": "stdout",
     "output_type": "stream",
     "text": [
      "Test Accuracy of the model on the 10000 test images: 92.57 %\n"
     ]
    }
   ],
   "source": [
    "# Test the model\n",
    "model.eval()\n",
    "with torch.no_grad():\n",
    "    correct = 0\n",
    "    total = 0\n",
    "    for images, labels in test_loader:\n",
    "        images = images.reshape(-1, sequence_length, input_size).to(device)\n",
    "        labels = labels.to(device)\n",
    "        outputs = model(images)\n",
    "        _, predicted = torch.max(outputs.data, 1)\n",
    "        total += labels.size(0)\n",
    "        correct += (predicted == labels).sum().item()\n",
    "\n",
    "    print('Test Accuracy of the model on the 10000 test images: {} %'.format(100 * correct / total)) "
   ]
  },
  {
   "cell_type": "code",
   "execution_count": null,
   "id": "febae292-e37a-49fe-86be-43e950e67a29",
   "metadata": {},
   "outputs": [],
   "source": []
  }
 ],
 "metadata": {
  "kernelspec": {
   "display_name": "myTorch",
   "language": "python",
   "name": "mytorch"
  },
  "language_info": {
   "codemirror_mode": {
    "name": "ipython",
    "version": 3
   },
   "file_extension": ".py",
   "mimetype": "text/x-python",
   "name": "python",
   "nbconvert_exporter": "python",
   "pygments_lexer": "ipython3",
   "version": "3.10.4"
  }
 },
 "nbformat": 4,
 "nbformat_minor": 5
}
