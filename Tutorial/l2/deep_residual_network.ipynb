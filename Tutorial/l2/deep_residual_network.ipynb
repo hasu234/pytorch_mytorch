{
 "cells": [
  {
   "cell_type": "raw",
   "id": "d387a087-f591-43f4-be38-8fe31f6faa99",
   "metadata": {},
   "source": [
    "```\n",
    "# ---------------------------------------------------------------------------- #\n",
    "# An implementation of https://arxiv.org/pdf/1512.03385.pdf                    #\n",
    "# See section 4.2 for the model architecture on CIFAR-10                       #\n",
    "# Some part of the code was referenced from below                              #\n",
    "# https://github.com/pytorch/vision/blob/master/torchvision/models/resnet.py   #\n",
    "# ---------------------------------------------------------------------------- #\n",
    "```"
   ]
  },
  {
   "cell_type": "code",
   "execution_count": 12,
   "id": "33b71357-7e7c-458e-b7e7-babdd1137d76",
   "metadata": {},
   "outputs": [],
   "source": [
    "import torch\n",
    "import torch.nn as nn\n",
    "import torchvision\n",
    "import torchvision.transforms as transforms"
   ]
  },
  {
   "cell_type": "code",
   "execution_count": 4,
   "id": "b20b2fd6-9d01-49b1-96b0-9ba792693ba7",
   "metadata": {},
   "outputs": [],
   "source": [
    "# Device configuration\n",
    "device = torch.device('cuda' if torch.cuda.is_available() else 'cpu')"
   ]
  },
  {
   "cell_type": "code",
   "execution_count": 18,
   "id": "09df71ee-268c-43ee-a11c-5cac5b76b388",
   "metadata": {},
   "outputs": [],
   "source": [
    "# Hyper-parameters\n",
    "num_epochs = 10\n",
    "batch_size = 100\n",
    "learning_rate = 0.001"
   ]
  },
  {
   "cell_type": "code",
   "execution_count": 6,
   "id": "788b6c6d-4c22-4f60-835b-91cc276325d1",
   "metadata": {},
   "outputs": [],
   "source": [
    "# Image preprocessing modules\n",
    "transform = transforms.Compose([\n",
    "    transforms.Pad(4),\n",
    "    transforms.RandomHorizontalFlip(),\n",
    "    transforms.RandomCrop(32),\n",
    "    transforms.ToTensor()])"
   ]
  },
  {
   "cell_type": "code",
   "execution_count": 7,
   "id": "447b1750-5da8-4a02-8b67-780cdcf3ef75",
   "metadata": {},
   "outputs": [
    {
     "name": "stdout",
     "output_type": "stream",
     "text": [
      "Downloading https://www.cs.toronto.edu/~kriz/cifar-10-python.tar.gz to /home/hasu/Documents/github/content/CIFAR10/cifar-10-python.tar.gz\n"
     ]
    },
    {
     "name": "stderr",
     "output_type": "stream",
     "text": [
      "100%|█████████████████████████| 170498071/170498071 [13:25<00:00, 211765.73it/s]\n"
     ]
    },
    {
     "name": "stdout",
     "output_type": "stream",
     "text": [
      "Extracting /home/hasu/Documents/github/content/CIFAR10/cifar-10-python.tar.gz to /home/hasu/Documents/github/content/CIFAR10/\n"
     ]
    }
   ],
   "source": [
    "# CIFAR-10 dataset\n",
    "train_dataset = torchvision.datasets.CIFAR10(root='/home/hasu/Documents/github/content/CIFAR10/',\n",
    "                                             train=True, \n",
    "                                             transform=transform,\n",
    "                                             download=True)\n",
    "\n",
    "test_dataset = torchvision.datasets.CIFAR10(root='/home/hasu/Documents/github/content/CIFAR10/',\n",
    "                                            train=False, \n",
    "                                            transform=transforms.ToTensor())"
   ]
  },
  {
   "cell_type": "code",
   "execution_count": 8,
   "id": "ec64d870-ff36-4d2c-9b44-6a6aadd78ded",
   "metadata": {},
   "outputs": [],
   "source": [
    "# Data loader\n",
    "train_loader = torch.utils.data.DataLoader(dataset=train_dataset,\n",
    "                                           batch_size=batch_size,\n",
    "                                           shuffle=True)\n",
    "\n",
    "test_loader = torch.utils.data.DataLoader(dataset=test_dataset,\n",
    "                                          batch_size=batch_size,\n",
    "                                          shuffle=False)"
   ]
  },
  {
   "cell_type": "code",
   "execution_count": 9,
   "id": "94eb68b3-26ab-488f-af4e-8ca3dc714e5a",
   "metadata": {},
   "outputs": [],
   "source": [
    "# 3x3 convolution\n",
    "def conv3x3(in_channels, out_channels, stride=1):\n",
    "    return nn.Conv2d(in_channels, out_channels, kernel_size=3, \n",
    "                     stride=stride, padding=1, bias=False)"
   ]
  },
  {
   "cell_type": "code",
   "execution_count": 10,
   "id": "9ac8b1d3-4ff7-4071-ac6c-069da113239f",
   "metadata": {},
   "outputs": [],
   "source": [
    "# Residual block\n",
    "class ResidualBlock(nn.Module):\n",
    "    def __init__(self, in_channels, out_channels, stride=1, downsample=None):\n",
    "        super(ResidualBlock, self).__init__()\n",
    "        self.conv1 = conv3x3(in_channels, out_channels, stride)\n",
    "        self.bn1 = nn.BatchNorm2d(out_channels)\n",
    "        self.relu = nn.ReLU(inplace=True)\n",
    "        self.conv2 = conv3x3(out_channels, out_channels)\n",
    "        self.bn2 = nn.BatchNorm2d(out_channels)\n",
    "        self.downsample = downsample\n",
    "        \n",
    "    def forward(self, x):\n",
    "        residual = x\n",
    "        out = self.conv1(x)\n",
    "        out = self.bn1(out)\n",
    "        out = self.relu(out)\n",
    "        out = self.conv2(out)\n",
    "        out = self.bn2(out)\n",
    "        if self.downsample:\n",
    "            residual = self.downsample(x)\n",
    "        out += residual\n",
    "        out = self.relu(out)\n",
    "        return out"
   ]
  },
  {
   "cell_type": "code",
   "execution_count": 13,
   "id": "1774ac0e-e7ef-43e5-bf1b-4dde8f0d64cf",
   "metadata": {},
   "outputs": [],
   "source": [
    "# ResNet\n",
    "class ResNet(nn.Module):\n",
    "    def __init__(self, block, layers, num_classes=10):\n",
    "        super(ResNet, self).__init__()\n",
    "        self.in_channels = 16\n",
    "        self.conv = conv3x3(3, 16)\n",
    "        self.bn = nn.BatchNorm2d(16)\n",
    "        self.relu = nn.ReLU(inplace=True)\n",
    "        self.layer1 = self.make_layer(block, 16, layers[0])\n",
    "        self.layer2 = self.make_layer(block, 32, layers[1], 2)\n",
    "        self.layer3 = self.make_layer(block, 64, layers[2], 2)\n",
    "        self.avg_pool = nn.AvgPool2d(8)\n",
    "        self.fc = nn.Linear(64, num_classes)\n",
    "        \n",
    "    def make_layer(self, block, out_channels, blocks, stride=1):\n",
    "        downsample = None\n",
    "        if (stride != 1) or (self.in_channels != out_channels):\n",
    "            downsample = nn.Sequential(\n",
    "                conv3x3(self.in_channels, out_channels, stride=stride),\n",
    "                nn.BatchNorm2d(out_channels))\n",
    "        layers = []\n",
    "        layers.append(block(self.in_channels, out_channels, stride, downsample))\n",
    "        self.in_channels = out_channels\n",
    "        for i in range(1, blocks):\n",
    "            layers.append(block(out_channels, out_channels))\n",
    "        return nn.Sequential(*layers)\n",
    "    \n",
    "    def forward(self, x):\n",
    "        out = self.conv(x)\n",
    "        out = self.bn(out)\n",
    "        out = self.relu(out)\n",
    "        out = self.layer1(out)\n",
    "        out = self.layer2(out)\n",
    "        out = self.layer3(out)\n",
    "        out = self.avg_pool(out)\n",
    "        out = out.view(out.size(0), -1)\n",
    "        out = self.fc(out)\n",
    "        return out"
   ]
  },
  {
   "cell_type": "code",
   "execution_count": 14,
   "id": "a27ad15d-2d18-4541-8136-e07287e3c21f",
   "metadata": {},
   "outputs": [],
   "source": [
    "model = ResNet(ResidualBlock, [2, 2, 2]).to(device)"
   ]
  },
  {
   "cell_type": "code",
   "execution_count": 15,
   "id": "1f75d9d0-f329-4829-a79f-0c087813687b",
   "metadata": {},
   "outputs": [],
   "source": [
    "# Loss and optimizer\n",
    "criterion = nn.CrossEntropyLoss()\n",
    "optimizer = torch.optim.Adam(model.parameters(), lr=learning_rate)"
   ]
  },
  {
   "cell_type": "code",
   "execution_count": 16,
   "id": "f3a5b5ad-3eba-445d-bf05-edb68b9e67e4",
   "metadata": {},
   "outputs": [],
   "source": [
    "# For updating learning rate\n",
    "def update_lr(optimizer, lr):    \n",
    "    for param_group in optimizer.param_groups:\n",
    "        param_group['lr'] = lr"
   ]
  },
  {
   "cell_type": "code",
   "execution_count": 19,
   "id": "99bd6425-14a2-4821-9434-ee380f298d1f",
   "metadata": {},
   "outputs": [
    {
     "name": "stdout",
     "output_type": "stream",
     "text": [
      "Epoch [1/10], Step [100/500] Loss: 1.5176\n",
      "Epoch [1/10], Step [200/500] Loss: 1.2218\n",
      "Epoch [1/10], Step [300/500] Loss: 1.2043\n",
      "Epoch [1/10], Step [400/500] Loss: 1.0456\n",
      "Epoch [1/10], Step [500/500] Loss: 1.0627\n",
      "Epoch [2/10], Step [100/500] Loss: 1.0785\n",
      "Epoch [2/10], Step [200/500] Loss: 1.0949\n",
      "Epoch [2/10], Step [300/500] Loss: 0.8834\n",
      "Epoch [2/10], Step [400/500] Loss: 0.8388\n",
      "Epoch [2/10], Step [500/500] Loss: 0.8072\n",
      "Epoch [3/10], Step [100/500] Loss: 0.8588\n",
      "Epoch [3/10], Step [200/500] Loss: 0.8015\n",
      "Epoch [3/10], Step [300/500] Loss: 0.7583\n",
      "Epoch [3/10], Step [400/500] Loss: 0.7039\n",
      "Epoch [3/10], Step [500/500] Loss: 0.6914\n",
      "Epoch [4/10], Step [100/500] Loss: 0.7519\n",
      "Epoch [4/10], Step [200/500] Loss: 0.6961\n",
      "Epoch [4/10], Step [300/500] Loss: 0.6788\n",
      "Epoch [4/10], Step [400/500] Loss: 0.6671\n",
      "Epoch [4/10], Step [500/500] Loss: 0.7893\n",
      "Epoch [5/10], Step [100/500] Loss: 0.7344\n",
      "Epoch [5/10], Step [200/500] Loss: 0.7259\n",
      "Epoch [5/10], Step [300/500] Loss: 0.8660\n",
      "Epoch [5/10], Step [400/500] Loss: 0.5730\n",
      "Epoch [5/10], Step [500/500] Loss: 0.7904\n",
      "Epoch [6/10], Step [100/500] Loss: 0.5738\n",
      "Epoch [6/10], Step [200/500] Loss: 0.5750\n",
      "Epoch [6/10], Step [300/500] Loss: 0.5059\n",
      "Epoch [6/10], Step [400/500] Loss: 0.5002\n",
      "Epoch [6/10], Step [500/500] Loss: 0.6385\n",
      "Epoch [7/10], Step [100/500] Loss: 0.7581\n",
      "Epoch [7/10], Step [200/500] Loss: 0.6841\n",
      "Epoch [7/10], Step [300/500] Loss: 0.5831\n",
      "Epoch [7/10], Step [400/500] Loss: 0.7191\n",
      "Epoch [7/10], Step [500/500] Loss: 0.6456\n",
      "Epoch [8/10], Step [100/500] Loss: 0.6151\n",
      "Epoch [8/10], Step [200/500] Loss: 0.5157\n",
      "Epoch [8/10], Step [300/500] Loss: 0.6428\n",
      "Epoch [8/10], Step [400/500] Loss: 0.8240\n",
      "Epoch [8/10], Step [500/500] Loss: 0.5646\n",
      "Epoch [9/10], Step [100/500] Loss: 0.5882\n",
      "Epoch [9/10], Step [200/500] Loss: 0.4955\n",
      "Epoch [9/10], Step [300/500] Loss: 0.5933\n",
      "Epoch [9/10], Step [400/500] Loss: 0.7951\n",
      "Epoch [9/10], Step [500/500] Loss: 0.3461\n",
      "Epoch [10/10], Step [100/500] Loss: 0.4550\n",
      "Epoch [10/10], Step [200/500] Loss: 0.4326\n",
      "Epoch [10/10], Step [300/500] Loss: 0.6058\n",
      "Epoch [10/10], Step [400/500] Loss: 0.7105\n",
      "Epoch [10/10], Step [500/500] Loss: 0.4637\n"
     ]
    }
   ],
   "source": [
    "# Train the model\n",
    "total_step = len(train_loader)\n",
    "curr_lr = learning_rate\n",
    "for epoch in range(num_epochs):\n",
    "    for i, (images, labels) in enumerate(train_loader):\n",
    "        images = images.to(device)\n",
    "        labels = labels.to(device)\n",
    "        \n",
    "        # Forward pass\n",
    "        outputs = model(images)\n",
    "        loss = criterion(outputs, labels)\n",
    "        \n",
    "        # Backward and optimize\n",
    "        optimizer.zero_grad()\n",
    "        loss.backward()\n",
    "        optimizer.step()\n",
    "        \n",
    "        if (i+1) % 100 == 0:\n",
    "            print (\"Epoch [{}/{}], Step [{}/{}] Loss: {:.4f}\"\n",
    "                   .format(epoch+1, num_epochs, i+1, total_step, loss.item()))\n",
    "\n",
    "    # Decay learning rate\n",
    "    if (epoch+1) % 20 == 0:\n",
    "        curr_lr /= 3\n",
    "        update_lr(optimizer, curr_lr)"
   ]
  },
  {
   "cell_type": "code",
   "execution_count": 20,
   "id": "7f4289f5-00ec-48af-8d24-733a2c5d8e7a",
   "metadata": {},
   "outputs": [
    {
     "name": "stdout",
     "output_type": "stream",
     "text": [
      "Accuracy of the model on the test images: 75.36 %\n"
     ]
    }
   ],
   "source": [
    "# Test the model\n",
    "model.eval()\n",
    "with torch.no_grad():\n",
    "    correct = 0\n",
    "    total = 0\n",
    "    for images, labels in test_loader:\n",
    "        images = images.to(device)\n",
    "        labels = labels.to(device)\n",
    "        outputs = model(images)\n",
    "        _, predicted = torch.max(outputs.data, 1)\n",
    "        total += labels.size(0)\n",
    "        correct += (predicted == labels).sum().item()\n",
    "\n",
    "    print('Accuracy of the model on the test images: {} %'.format(100 * correct / total))"
   ]
  },
  {
   "cell_type": "code",
   "execution_count": null,
   "id": "96f5aa99-eee1-478c-9983-810e38223b98",
   "metadata": {},
   "outputs": [],
   "source": []
  }
 ],
 "metadata": {
  "kernelspec": {
   "display_name": "myTorch",
   "language": "python",
   "name": "mytorch"
  },
  "language_info": {
   "codemirror_mode": {
    "name": "ipython",
    "version": 3
   },
   "file_extension": ".py",
   "mimetype": "text/x-python",
   "name": "python",
   "nbconvert_exporter": "python",
   "pygments_lexer": "ipython3",
   "version": "3.10.4"
  }
 },
 "nbformat": 4,
 "nbformat_minor": 5
}
