{
 "cells": [
  {
   "cell_type": "code",
   "execution_count": 1,
   "id": "9271ad8e-e568-4a36-a2cf-e59f45f3bba2",
   "metadata": {},
   "outputs": [],
   "source": [
    "import os\n",
    "import torch\n",
    "import torchvision\n",
    "import torch.nn as nn\n",
    "from torchvision import transforms\n",
    "from torchvision.utils import save_image"
   ]
  },
  {
   "cell_type": "code",
   "execution_count": 2,
   "id": "604fca16-5d19-4de5-ad42-e3008f96d1a7",
   "metadata": {},
   "outputs": [],
   "source": [
    "# Device configuration\n",
    "device = torch.device('cuda' if torch.cuda.is_available() else 'cpu')"
   ]
  },
  {
   "cell_type": "code",
   "execution_count": 27,
   "id": "1f73e63a-4fc4-40ae-8bf6-813cedf1dab5",
   "metadata": {},
   "outputs": [],
   "source": [
    "# Hyper-parameters\n",
    "latent_size = 64\n",
    "hidden_size = 256\n",
    "image_size = 784\n",
    "num_epochs = 20\n",
    "batch_size = 100\n",
    "sample_dir = 'samples'"
   ]
  },
  {
   "cell_type": "code",
   "execution_count": 23,
   "id": "8d7472de-d221-46a0-a266-7f626c2863d5",
   "metadata": {},
   "outputs": [],
   "source": [
    "# Create a directory if not exists\n",
    "if not os.path.exists(sample_dir):\n",
    "    os.makedirs(sample_dir)"
   ]
  },
  {
   "cell_type": "code",
   "execution_count": 24,
   "id": "c89ecfeb-1e98-41f6-9e75-76b7533d8dd0",
   "metadata": {},
   "outputs": [],
   "source": [
    "# Image processing\n",
    "# transform = transforms.Compose([\n",
    "#                 transforms.ToTensor(),\n",
    "#                 transforms.Normalize(mean=(0.5, 0.5, 0.5),   # 3 for RGB channels\n",
    "#                                      std=(0.5, 0.5, 0.5))])\n",
    "transform = transforms.Compose([\n",
    "                transforms.ToTensor(),\n",
    "                transforms.Normalize(mean=[0.5],   # 1 for greyscale channels\n",
    "                                     std=[0.5])])"
   ]
  },
  {
   "cell_type": "code",
   "execution_count": 25,
   "id": "7e8bb8d5-fa8b-4324-a00a-12a5a55cedcf",
   "metadata": {},
   "outputs": [],
   "source": [
    "# MNIST dataset\n",
    "mnist = torchvision.datasets.MNIST(root='../../data/',\n",
    "                                   train=True,\n",
    "                                   transform=transform,\n",
    "                                   download=True)"
   ]
  },
  {
   "cell_type": "code",
   "execution_count": 7,
   "id": "f9cf467e-7af3-440f-ace0-a4d88e82c1cc",
   "metadata": {},
   "outputs": [],
   "source": [
    "# Data loader\n",
    "data_loader = torch.utils.data.DataLoader(dataset=mnist,\n",
    "                                          batch_size=batch_size, \n",
    "                                          shuffle=True)"
   ]
  },
  {
   "cell_type": "code",
   "execution_count": 8,
   "id": "ab48abb8-e9c5-4349-8eeb-89d90b733fa3",
   "metadata": {},
   "outputs": [],
   "source": [
    "# Discriminator\n",
    "D = nn.Sequential(\n",
    "    nn.Linear(image_size, hidden_size),\n",
    "    nn.LeakyReLU(0.2),\n",
    "    nn.Linear(hidden_size, hidden_size),\n",
    "    nn.LeakyReLU(0.2),\n",
    "    nn.Linear(hidden_size, 1),\n",
    "    nn.Sigmoid())"
   ]
  },
  {
   "cell_type": "code",
   "execution_count": 9,
   "id": "dce49a2e-4282-4e93-8554-c0d8401958bc",
   "metadata": {},
   "outputs": [],
   "source": [
    "# Generator \n",
    "G = nn.Sequential(\n",
    "    nn.Linear(latent_size, hidden_size),\n",
    "    nn.ReLU(),\n",
    "    nn.Linear(hidden_size, hidden_size),\n",
    "    nn.ReLU(),\n",
    "    nn.Linear(hidden_size, image_size),\n",
    "    nn.Tanh())"
   ]
  },
  {
   "cell_type": "code",
   "execution_count": 11,
   "id": "04f70a15-8427-482c-b17d-0fa724a7730e",
   "metadata": {},
   "outputs": [],
   "source": [
    "# Device setting\n",
    "D = D.to(device)\n",
    "G = G.to(device)\n"
   ]
  },
  {
   "cell_type": "code",
   "execution_count": 12,
   "id": "841366ca-4280-417c-a065-5790c7736be8",
   "metadata": {},
   "outputs": [],
   "source": [
    "# Binary cross entropy loss and optimizer\n",
    "criterion = nn.BCELoss()\n",
    "d_optimizer = torch.optim.Adam(D.parameters(), lr=0.0002)\n",
    "g_optimizer = torch.optim.Adam(G.parameters(), lr=0.0002)"
   ]
  },
  {
   "cell_type": "code",
   "execution_count": 13,
   "id": "638ffcc6-6082-484a-a630-b41f223042a3",
   "metadata": {},
   "outputs": [],
   "source": [
    "def denorm(x):\n",
    "    out = (x + 1) / 2\n",
    "    return out.clamp(0, 1)"
   ]
  },
  {
   "cell_type": "code",
   "execution_count": 14,
   "id": "05ce766f-8978-4bde-8ae5-9ac04d85206f",
   "metadata": {},
   "outputs": [],
   "source": [
    "def reset_grad():\n",
    "    d_optimizer.zero_grad()\n",
    "    g_optimizer.zero_grad()"
   ]
  },
  {
   "cell_type": "code",
   "execution_count": 28,
   "id": "602a6e5a-ee7a-41e9-9f8b-5490cc5dbdfd",
   "metadata": {},
   "outputs": [
    {
     "name": "stdout",
     "output_type": "stream",
     "text": [
      "Epoch [0/20], Step [200/600], d_loss: 0.1610, g_loss: 5.0173, D(x): 0.93, D(G(z)): 0.01\n",
      "Epoch [0/20], Step [400/600], d_loss: 0.2663, g_loss: 4.6858, D(x): 0.93, D(G(z)): 0.07\n",
      "Epoch [0/20], Step [600/600], d_loss: 0.1993, g_loss: 3.9468, D(x): 0.94, D(G(z)): 0.07\n",
      "Epoch [1/20], Step [200/600], d_loss: 0.3326, g_loss: 5.3082, D(x): 0.90, D(G(z)): 0.04\n",
      "Epoch [1/20], Step [400/600], d_loss: 0.1891, g_loss: 4.1797, D(x): 0.99, D(G(z)): 0.13\n",
      "Epoch [1/20], Step [600/600], d_loss: 0.1075, g_loss: 6.6029, D(x): 0.97, D(G(z)): 0.05\n",
      "Epoch [2/20], Step [200/600], d_loss: 0.2262, g_loss: 3.1846, D(x): 0.93, D(G(z)): 0.07\n",
      "Epoch [2/20], Step [400/600], d_loss: 0.4369, g_loss: 4.6888, D(x): 0.92, D(G(z)): 0.13\n",
      "Epoch [2/20], Step [600/600], d_loss: 0.3411, g_loss: 5.4296, D(x): 0.94, D(G(z)): 0.13\n",
      "Epoch [3/20], Step [200/600], d_loss: 0.3971, g_loss: 6.5365, D(x): 0.90, D(G(z)): 0.12\n",
      "Epoch [3/20], Step [400/600], d_loss: 0.2625, g_loss: 4.2328, D(x): 0.94, D(G(z)): 0.10\n",
      "Epoch [3/20], Step [600/600], d_loss: 0.3489, g_loss: 5.0572, D(x): 0.90, D(G(z)): 0.08\n",
      "Epoch [4/20], Step [200/600], d_loss: 0.4876, g_loss: 4.4962, D(x): 0.82, D(G(z)): 0.04\n",
      "Epoch [4/20], Step [400/600], d_loss: 0.3941, g_loss: 4.3421, D(x): 0.96, D(G(z)): 0.21\n",
      "Epoch [4/20], Step [600/600], d_loss: 0.4047, g_loss: 2.6661, D(x): 0.92, D(G(z)): 0.17\n",
      "Epoch [5/20], Step [200/600], d_loss: 0.4431, g_loss: 3.2048, D(x): 0.86, D(G(z)): 0.09\n",
      "Epoch [5/20], Step [400/600], d_loss: 0.2452, g_loss: 3.7168, D(x): 0.91, D(G(z)): 0.07\n",
      "Epoch [5/20], Step [600/600], d_loss: 0.5123, g_loss: 5.6126, D(x): 0.82, D(G(z)): 0.06\n",
      "Epoch [6/20], Step [200/600], d_loss: 0.2807, g_loss: 3.0817, D(x): 0.92, D(G(z)): 0.12\n",
      "Epoch [6/20], Step [400/600], d_loss: 0.4193, g_loss: 3.5677, D(x): 0.89, D(G(z)): 0.13\n",
      "Epoch [6/20], Step [600/600], d_loss: 0.4646, g_loss: 4.2841, D(x): 0.93, D(G(z)): 0.18\n",
      "Epoch [7/20], Step [200/600], d_loss: 0.2253, g_loss: 3.6203, D(x): 0.94, D(G(z)): 0.08\n",
      "Epoch [7/20], Step [400/600], d_loss: 0.4184, g_loss: 2.5132, D(x): 0.91, D(G(z)): 0.18\n",
      "Epoch [7/20], Step [600/600], d_loss: 0.3943, g_loss: 3.9948, D(x): 0.88, D(G(z)): 0.11\n",
      "Epoch [8/20], Step [200/600], d_loss: 0.5556, g_loss: 3.4698, D(x): 0.93, D(G(z)): 0.26\n",
      "Epoch [8/20], Step [400/600], d_loss: 0.2469, g_loss: 4.3270, D(x): 0.93, D(G(z)): 0.08\n",
      "Epoch [8/20], Step [600/600], d_loss: 0.3551, g_loss: 3.6406, D(x): 0.89, D(G(z)): 0.11\n",
      "Epoch [9/20], Step [200/600], d_loss: 0.4059, g_loss: 3.5803, D(x): 0.93, D(G(z)): 0.17\n",
      "Epoch [9/20], Step [400/600], d_loss: 0.5123, g_loss: 3.0429, D(x): 0.85, D(G(z)): 0.18\n",
      "Epoch [9/20], Step [600/600], d_loss: 0.3518, g_loss: 2.8587, D(x): 0.93, D(G(z)): 0.14\n",
      "Epoch [10/20], Step [200/600], d_loss: 0.6032, g_loss: 3.1714, D(x): 0.88, D(G(z)): 0.24\n",
      "Epoch [10/20], Step [400/600], d_loss: 0.3582, g_loss: 3.3708, D(x): 0.91, D(G(z)): 0.14\n",
      "Epoch [10/20], Step [600/600], d_loss: 0.2858, g_loss: 3.7149, D(x): 0.93, D(G(z)): 0.13\n",
      "Epoch [11/20], Step [200/600], d_loss: 0.3135, g_loss: 3.4162, D(x): 0.88, D(G(z)): 0.10\n",
      "Epoch [11/20], Step [400/600], d_loss: 0.3090, g_loss: 3.6268, D(x): 0.90, D(G(z)): 0.09\n",
      "Epoch [11/20], Step [600/600], d_loss: 0.3294, g_loss: 5.3573, D(x): 0.89, D(G(z)): 0.06\n",
      "Epoch [12/20], Step [200/600], d_loss: 0.2208, g_loss: 4.6816, D(x): 0.95, D(G(z)): 0.10\n",
      "Epoch [12/20], Step [400/600], d_loss: 0.3313, g_loss: 3.2534, D(x): 0.86, D(G(z)): 0.07\n",
      "Epoch [12/20], Step [600/600], d_loss: 0.3696, g_loss: 4.6411, D(x): 0.89, D(G(z)): 0.09\n",
      "Epoch [13/20], Step [200/600], d_loss: 0.3210, g_loss: 3.8794, D(x): 0.94, D(G(z)): 0.15\n",
      "Epoch [13/20], Step [400/600], d_loss: 0.6630, g_loss: 3.2211, D(x): 0.77, D(G(z)): 0.05\n",
      "Epoch [13/20], Step [600/600], d_loss: 0.4821, g_loss: 2.1366, D(x): 0.92, D(G(z)): 0.22\n",
      "Epoch [14/20], Step [200/600], d_loss: 0.3097, g_loss: 3.8776, D(x): 0.92, D(G(z)): 0.13\n",
      "Epoch [14/20], Step [400/600], d_loss: 0.3652, g_loss: 3.1324, D(x): 0.90, D(G(z)): 0.14\n",
      "Epoch [14/20], Step [600/600], d_loss: 0.4590, g_loss: 3.3004, D(x): 0.84, D(G(z)): 0.09\n",
      "Epoch [15/20], Step [200/600], d_loss: 0.3519, g_loss: 3.7641, D(x): 0.87, D(G(z)): 0.10\n",
      "Epoch [15/20], Step [400/600], d_loss: 0.4883, g_loss: 4.0933, D(x): 0.81, D(G(z)): 0.05\n",
      "Epoch [15/20], Step [600/600], d_loss: 0.4069, g_loss: 3.9160, D(x): 0.87, D(G(z)): 0.12\n",
      "Epoch [16/20], Step [200/600], d_loss: 0.3955, g_loss: 3.2819, D(x): 0.87, D(G(z)): 0.11\n",
      "Epoch [16/20], Step [400/600], d_loss: 0.4626, g_loss: 2.9574, D(x): 0.83, D(G(z)): 0.12\n",
      "Epoch [16/20], Step [600/600], d_loss: 0.6083, g_loss: 2.1816, D(x): 0.82, D(G(z)): 0.16\n",
      "Epoch [17/20], Step [200/600], d_loss: 0.3910, g_loss: 3.3156, D(x): 0.86, D(G(z)): 0.11\n",
      "Epoch [17/20], Step [400/600], d_loss: 0.6085, g_loss: 1.9363, D(x): 0.88, D(G(z)): 0.26\n",
      "Epoch [17/20], Step [600/600], d_loss: 0.4512, g_loss: 3.1166, D(x): 0.86, D(G(z)): 0.15\n",
      "Epoch [18/20], Step [200/600], d_loss: 0.4644, g_loss: 2.7375, D(x): 0.88, D(G(z)): 0.16\n",
      "Epoch [18/20], Step [400/600], d_loss: 0.6320, g_loss: 2.9682, D(x): 0.83, D(G(z)): 0.16\n",
      "Epoch [18/20], Step [600/600], d_loss: 0.5203, g_loss: 2.9904, D(x): 0.83, D(G(z)): 0.14\n",
      "Epoch [19/20], Step [200/600], d_loss: 0.5167, g_loss: 2.7380, D(x): 0.81, D(G(z)): 0.14\n",
      "Epoch [19/20], Step [400/600], d_loss: 0.8156, g_loss: 3.0993, D(x): 0.73, D(G(z)): 0.13\n",
      "Epoch [19/20], Step [600/600], d_loss: 0.5080, g_loss: 3.5135, D(x): 0.81, D(G(z)): 0.10\n"
     ]
    }
   ],
   "source": [
    "# Start training\n",
    "total_step = len(data_loader)\n",
    "for epoch in range(num_epochs):\n",
    "    for i, (images, _) in enumerate(data_loader):\n",
    "        images = images.reshape(batch_size, -1).to(device)\n",
    "        \n",
    "        # Create the labels which are later used as input for the BCE loss\n",
    "        real_labels = torch.ones(batch_size, 1).to(device)\n",
    "        fake_labels = torch.zeros(batch_size, 1).to(device)\n",
    "\n",
    "        # ================================================================== #\n",
    "        #                      Train the discriminator                       #\n",
    "        # ================================================================== #\n",
    "\n",
    "        # Compute BCE_Loss using real images where BCE_Loss(x, y): - y * log(D(x)) - (1-y) * log(1 - D(x))\n",
    "        # Second term of the loss is always zero since real_labels == 1\n",
    "        outputs = D(images)\n",
    "        d_loss_real = criterion(outputs, real_labels)\n",
    "        real_score = outputs\n",
    "        \n",
    "        # Compute BCELoss using fake images\n",
    "        # First term of the loss is always zero since fake_labels == 0\n",
    "        z = torch.randn(batch_size, latent_size).to(device)\n",
    "        fake_images = G(z)\n",
    "        outputs = D(fake_images)\n",
    "        d_loss_fake = criterion(outputs, fake_labels)\n",
    "        fake_score = outputs\n",
    "        \n",
    "        # Backprop and optimize\n",
    "        d_loss = d_loss_real + d_loss_fake\n",
    "        reset_grad()\n",
    "        d_loss.backward()\n",
    "        d_optimizer.step()\n",
    "        \n",
    "        # ================================================================== #\n",
    "        #                        Train the generator                         #\n",
    "        # ================================================================== #\n",
    "\n",
    "        # Compute loss with fake images\n",
    "        z = torch.randn(batch_size, latent_size).to(device)\n",
    "        fake_images = G(z)\n",
    "        outputs = D(fake_images)\n",
    "        \n",
    "        # We train G to maximize log(D(G(z)) instead of minimizing log(1-D(G(z)))\n",
    "        # For the reason, see the last paragraph of section 3. https://arxiv.org/pdf/1406.2661.pdf\n",
    "        g_loss = criterion(outputs, real_labels)\n",
    "        \n",
    "        # Backprop and optimize\n",
    "        reset_grad()\n",
    "        g_loss.backward()\n",
    "        g_optimizer.step()\n",
    "        \n",
    "        if (i+1) % 200 == 0:\n",
    "            print('Epoch [{}/{}], Step [{}/{}], d_loss: {:.4f}, g_loss: {:.4f}, D(x): {:.2f}, D(G(z)): {:.2f}' \n",
    "                  .format(epoch, num_epochs, i+1, total_step, d_loss.item(), g_loss.item(), \n",
    "                          real_score.mean().item(), fake_score.mean().item()))\n",
    "    \n",
    "    # Save real images\n",
    "    if (epoch+1) == 1:\n",
    "        images = images.reshape(images.size(0), 1, 28, 28)\n",
    "        save_image(denorm(images), os.path.join(sample_dir, 'real_images.png'))\n",
    "    \n",
    "    # Save sampled images\n",
    "    fake_images = fake_images.reshape(fake_images.size(0), 1, 28, 28)\n",
    "    save_image(denorm(fake_images), os.path.join(sample_dir, 'fake_images-{}.png'.format(epoch+1)))"
   ]
  },
  {
   "cell_type": "code",
   "execution_count": null,
   "id": "5b65fa78-454e-4f97-b796-b97886b22be3",
   "metadata": {},
   "outputs": [],
   "source": [
    "# Save the model checkpoints \n",
    "torch.save(G.state_dict(), 'G.ckpt')\n",
    "torch.save(D.state_dict(), 'D.ckpt')"
   ]
  },
  {
   "cell_type": "code",
   "execution_count": null,
   "id": "07916739-e58c-483d-a381-e74ab9c461dd",
   "metadata": {},
   "outputs": [],
   "source": []
  }
 ],
 "metadata": {
  "kernelspec": {
   "display_name": "myTorch",
   "language": "python",
   "name": "mytorch"
  },
  "language_info": {
   "codemirror_mode": {
    "name": "ipython",
    "version": 3
   },
   "file_extension": ".py",
   "mimetype": "text/x-python",
   "name": "python",
   "nbconvert_exporter": "python",
   "pygments_lexer": "ipython3",
   "version": "3.10.4"
  }
 },
 "nbformat": 4,
 "nbformat_minor": 5
}
