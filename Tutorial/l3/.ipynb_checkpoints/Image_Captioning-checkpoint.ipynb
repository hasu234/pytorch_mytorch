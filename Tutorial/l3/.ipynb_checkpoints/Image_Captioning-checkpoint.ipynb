{
 "cells": [
  {
   "cell_type": "markdown",
   "id": "26cd17a8-81e7-41bd-9455-1c4472abab63",
   "metadata": {},
   "source": [
    "# Dataset Download"
   ]
  },
  {
   "cell_type": "code",
   "execution_count": 1,
   "id": "28365499-65d5-4ae0-8a60-49b977a39b4a",
   "metadata": {},
   "outputs": [],
   "source": [
    "path = \"../../data\""
   ]
  },
  {
   "cell_type": "code",
   "execution_count": 3,
   "id": "7683ef52-b957-495d-87ea-5206d143a977",
   "metadata": {},
   "outputs": [
    {
     "data": {
      "text/plain": [
       "['MNIST']"
      ]
     },
     "execution_count": 3,
     "metadata": {},
     "output_type": "execute_result"
    }
   ],
   "source": [
    "import os\n",
    "\n",
    "os.listdir(path)\n"
   ]
  },
  {
   "cell_type": "code",
   "execution_count": 7,
   "id": "23c7c2d0-a393-4730-aa42-f6c52c66d076",
   "metadata": {},
   "outputs": [
    {
     "name": "stdout",
     "output_type": "stream",
     "text": [
      "--2022-10-30 12:05:39--  http://msvocds.blob.core.windows.net/annotations-1-0-3/captions_train-val2014.zip\n",
      "Resolving msvocds.blob.core.windows.net (msvocds.blob.core.windows.net)... 20.60.195.163\n",
      "Connecting to msvocds.blob.core.windows.net (msvocds.blob.core.windows.net)|20.60.195.163|:80... connected.\n",
      "HTTP request sent, awaiting response... 404 The specified resource does not exist.\n",
      "2022-10-30 12:05:39 ERROR 404: The specified resource does not exist..\n",
      "\n",
      "--2022-10-30 12:05:39--  http://images.cocodataset.org/zips/train2014.zip\n",
      "Resolving images.cocodataset.org (images.cocodataset.org)... 54.231.229.33\n",
      "Connecting to images.cocodataset.org (images.cocodataset.org)|54.231.229.33|:80... connected.\n",
      "HTTP request sent, awaiting response... 200 OK\n",
      "Length: 13510573713 (13G) [application/zip]\n",
      "Saving to: ‘path/train2014.zip’\n",
      "\n",
      "train2014.zip         0%[                    ]  31.48M   428KB/s    eta 4h 17m "
     ]
    }
   ],
   "source": [
    "!wget http://msvocds.blob.core.windows.net/annotations-1-0-3/captions_train-val2014.zip -P path\n",
    "!wget http://images.cocodataset.org/zips/train2014.zip -P path\n",
    "!wget http://images.cocodataset.org/zips/val2014.zip -P path\n",
    "\n",
    "!unzip ./data/captions_train-val2014.zip -d path\n",
    "!rm ./data/captions_train-val2014.zip\n",
    "!unzip ./data/train2014.zip -d path\n",
    "!rm ./data/train2014.zip \n",
    "!unzip ./data/val2014.zip -d path\n",
    "!rm ./data/val2014.zip "
   ]
  },
  {
   "cell_type": "code",
   "execution_count": null,
   "id": "b6f0a7ac-8a09-4260-a2f9-93294c58307b",
   "metadata": {},
   "outputs": [],
   "source": []
  }
 ],
 "metadata": {
  "kernelspec": {
   "display_name": "myTorch",
   "language": "python",
   "name": "mytorch"
  },
  "language_info": {
   "codemirror_mode": {
    "name": "ipython",
    "version": 3
   },
   "file_extension": ".py",
   "mimetype": "text/x-python",
   "name": "python",
   "nbconvert_exporter": "python",
   "pygments_lexer": "ipython3",
   "version": "3.10.4"
  }
 },
 "nbformat": 4,
 "nbformat_minor": 5
}
