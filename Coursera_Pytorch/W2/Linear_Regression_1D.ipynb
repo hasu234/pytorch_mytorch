{
 "cells": [
  {
   "cell_type": "code",
   "execution_count": 2,
   "id": "5dde1f32-2ed1-4048-a031-3fca9dfa4218",
   "metadata": {},
   "outputs": [],
   "source": [
    "import torch"
   ]
  },
  {
   "cell_type": "code",
   "execution_count": 3,
   "id": "f28e754d-51e3-4ca2-a144-5711e05857ea",
   "metadata": {},
   "outputs": [],
   "source": [
    "# slope or weight\n",
    "w = torch.tensor(2.0, requires_grad = True)\n",
    "\n",
    "# Bias\n",
    "b = torch.tensor(-1.0, requires_grad = True)"
   ]
  },
  {
   "cell_type": "code",
   "execution_count": 4,
   "id": "a72b8ab6-bdaf-412d-90af-6557a0acf1cb",
   "metadata": {},
   "outputs": [],
   "source": [
    "def forward(x):\n",
    "    y = w*x + b\n",
    "    return y"
   ]
  },
  {
   "cell_type": "code",
   "execution_count": 5,
   "id": "22efde9f-8061-436d-bb2a-5568a08a9954",
   "metadata": {},
   "outputs": [],
   "source": [
    "x = torch.tensor([1.0])"
   ]
  },
  {
   "cell_type": "code",
   "execution_count": 7,
   "id": "dffae333-1e63-4c3c-a8ea-6823a00f8bbd",
   "metadata": {},
   "outputs": [],
   "source": [
    "yhat = forward(x)"
   ]
  },
  {
   "cell_type": "code",
   "execution_count": 10,
   "id": "db6d567c-6b6b-4ca3-aaa2-bfdb4d48cd6c",
   "metadata": {},
   "outputs": [
    {
     "name": "stdout",
     "output_type": "stream",
     "text": [
      "tensor([1.], grad_fn=<AddBackward0>)\n"
     ]
    }
   ],
   "source": [
    "print(yhat)"
   ]
  },
  {
   "cell_type": "code",
   "execution_count": 15,
   "id": "cc8f1217-889e-4753-aca1-f82513160171",
   "metadata": {},
   "outputs": [],
   "source": [
    "x = torch.tensor([[1],[2]])"
   ]
  },
  {
   "cell_type": "code",
   "execution_count": 16,
   "id": "8d7d1e07-c091-4e5d-a237-56ea49c1be94",
   "metadata": {},
   "outputs": [],
   "source": [
    "yhat_ = forward(x)"
   ]
  },
  {
   "cell_type": "code",
   "execution_count": 18,
   "id": "d342c275-cd6a-4ec3-bda7-b6f7dc8744e0",
   "metadata": {},
   "outputs": [
    {
     "data": {
      "text/plain": [
       "tensor([[1.],\n",
       "        [3.]], grad_fn=<AddBackward0>)"
      ]
     },
     "execution_count": 18,
     "metadata": {},
     "output_type": "execute_result"
    }
   ],
   "source": [
    "yhat_"
   ]
  },
  {
   "cell_type": "markdown",
   "id": "b3d64d73-ae6c-4e79-a643-9a82ba1206da",
   "metadata": {},
   "source": [
    "## Linear Class"
   ]
  },
  {
   "cell_type": "code",
   "execution_count": 19,
   "id": "dca63770-6d92-4057-b917-45badb5ccf92",
   "metadata": {},
   "outputs": [],
   "source": [
    "from torch.nn import Linear"
   ]
  },
  {
   "cell_type": "code",
   "execution_count": 20,
   "id": "610f70b8-2c42-4950-a55f-720ac51db41f",
   "metadata": {},
   "outputs": [
    {
     "data": {
      "text/plain": [
       "<torch._C.Generator at 0x7f1c02913c10>"
      ]
     },
     "execution_count": 20,
     "metadata": {},
     "output_type": "execute_result"
    }
   ],
   "source": [
    "torch.manual_seed(1)"
   ]
  },
  {
   "cell_type": "code",
   "execution_count": 53,
   "id": "c9fc0fd7-d0db-407d-90a3-a7dd8629406e",
   "metadata": {},
   "outputs": [],
   "source": [
    "# in_features is the size of each input sample or number of columns\n",
    "# out features is the size of output sample\n",
    "\n",
    "model = Linear(in_features = 1, out_features = 1)"
   ]
  },
  {
   "cell_type": "code",
   "execution_count": 54,
   "id": "53c565ed-2198-428d-be01-a5c6f0cdf419",
   "metadata": {},
   "outputs": [
    {
     "name": "stdout",
     "output_type": "stream",
     "text": [
      "[Parameter containing:\n",
      "tensor([[-0.4647]], requires_grad=True), Parameter containing:\n",
      "tensor([0.9812], requires_grad=True)]\n"
     ]
    }
   ],
   "source": [
    "print(list(model.parameters()))"
   ]
  },
  {
   "cell_type": "code",
   "execution_count": 55,
   "id": "cbfe554b-6ce9-45c2-be05-46913bae50af",
   "metadata": {},
   "outputs": [],
   "source": [
    "x = torch.tensor([0.0])"
   ]
  },
  {
   "cell_type": "code",
   "execution_count": 56,
   "id": "5a576573-49d6-466f-bca5-1f329a0be069",
   "metadata": {},
   "outputs": [],
   "source": [
    "# y = wx+b\n",
    "\n",
    "y  = model(x)"
   ]
  },
  {
   "cell_type": "code",
   "execution_count": 57,
   "id": "99958633-9fd2-4cfb-bcec-b3c0029506a1",
   "metadata": {},
   "outputs": [
    {
     "data": {
      "text/plain": [
       "tensor([0.9812], grad_fn=<AddBackward0>)"
      ]
     },
     "execution_count": 57,
     "metadata": {},
     "output_type": "execute_result"
    }
   ],
   "source": [
    "y"
   ]
  },
  {
   "cell_type": "code",
   "execution_count": 70,
   "id": "8e4d0947-620f-4f42-ab04-9ee1a7b57c18",
   "metadata": {},
   "outputs": [],
   "source": [
    "model = Linear(in_features = 2, out_features = 1)"
   ]
  },
  {
   "cell_type": "code",
   "execution_count": 71,
   "id": "0575c077-4d2e-4c87-8868-f16198195203",
   "metadata": {},
   "outputs": [],
   "source": [
    "x = torch.tensor([[(1.0),(1.0)],[(2.0),(2.0)]])"
   ]
  },
  {
   "cell_type": "code",
   "execution_count": 72,
   "id": "11e3a74f-e79e-4a80-b8de-553340153224",
   "metadata": {},
   "outputs": [],
   "source": [
    "yhat_ = model(x)"
   ]
  },
  {
   "cell_type": "code",
   "execution_count": 73,
   "id": "f21a19be-088e-47f5-808a-1ab6661b7616",
   "metadata": {},
   "outputs": [
    {
     "data": {
      "text/plain": [
       "tensor([[1.0992],\n",
       "        [1.6317]], grad_fn=<AddmmBackward0>)"
      ]
     },
     "execution_count": 73,
     "metadata": {},
     "output_type": "execute_result"
    }
   ],
   "source": [
    "yhat_"
   ]
  },
  {
   "cell_type": "markdown",
   "id": "609e7c63-208a-4d7e-a86f-82b6e5359a5b",
   "metadata": {},
   "source": [
    "## Custom Module"
   ]
  },
  {
   "cell_type": "code",
   "execution_count": 75,
   "id": "86b43ad7-84dc-4039-ae92-9ff0f276b3e9",
   "metadata": {},
   "outputs": [],
   "source": [
    "import torch.nn as nn"
   ]
  },
  {
   "cell_type": "code",
   "execution_count": 79,
   "id": "7d0e0c77-775a-4ebf-9325-fb0e94e3705e",
   "metadata": {},
   "outputs": [],
   "source": [
    "class LR(nn.Module):\n",
    "    def __init__(self, in_size, out_size):\n",
    "        super(LR, self).__init__()\n",
    "        self.linear = nn.Linear(in_size, out_size)\n",
    "        \n",
    "    def forward(self, x):\n",
    "        out = self.linear(x)\n",
    "        return out"
   ]
  },
  {
   "cell_type": "code",
   "execution_count": 80,
   "id": "fc361973-7d96-408c-8674-c21a7e32a0a2",
   "metadata": {},
   "outputs": [],
   "source": [
    "model = LR(1,1)"
   ]
  },
  {
   "cell_type": "code",
   "execution_count": 82,
   "id": "2340968a-4e48-4442-8bea-e528d1a3dc97",
   "metadata": {},
   "outputs": [
    {
     "data": {
      "text/plain": [
       "[Parameter containing:\n",
       " tensor([[-0.0468]], requires_grad=True),\n",
       " Parameter containing:\n",
       " tensor([-0.6675], requires_grad=True)]"
      ]
     },
     "execution_count": 82,
     "metadata": {},
     "output_type": "execute_result"
    }
   ],
   "source": [
    "list(model.parameters())"
   ]
  },
  {
   "cell_type": "code",
   "execution_count": 88,
   "id": "5b85f1a8-ad9b-4a87-b9d6-f60805939272",
   "metadata": {},
   "outputs": [
    {
     "data": {
      "text/plain": [
       "OrderedDict([('linear.weight', tensor([[0.5153]])),\n",
       "             ('linear.bias', tensor([-0.4414]))])"
      ]
     },
     "execution_count": 88,
     "metadata": {},
     "output_type": "execute_result"
    }
   ],
   "source": [
    "model.state_dict()"
   ]
  },
  {
   "cell_type": "code",
   "execution_count": 85,
   "id": "86cf94c2-469e-483e-9112-c9b1428ab5b7",
   "metadata": {},
   "outputs": [],
   "source": [
    "# to changes the weight and bias of the model\n",
    "\n",
    "model.state_dict()['linear.weight'].data[0] = torch.tensor([0.5153])\n",
    "model.state_dict()['linear.bias'].data[0] = torch.tensor([-0.4414])"
   ]
  },
  {
   "cell_type": "code",
   "execution_count": 86,
   "id": "88f38048-0973-4475-b40b-001faba72ee2",
   "metadata": {},
   "outputs": [],
   "source": [
    "x = torch.tensor([1.0])\n",
    "yhat=model(x)"
   ]
  },
  {
   "cell_type": "code",
   "execution_count": 87,
   "id": "f166fda1-f15e-4f2c-9ecc-068357e992d3",
   "metadata": {},
   "outputs": [
    {
     "data": {
      "text/plain": [
       "tensor([0.0739], grad_fn=<AddBackward0>)"
      ]
     },
     "execution_count": 87,
     "metadata": {},
     "output_type": "execute_result"
    }
   ],
   "source": [
    "yhat"
   ]
  },
  {
   "cell_type": "code",
   "execution_count": null,
   "id": "99ad53a9-8a7a-4572-8bce-c49588a1b779",
   "metadata": {},
   "outputs": [],
   "source": []
  }
 ],
 "metadata": {
  "kernelspec": {
   "display_name": "myTorch",
   "language": "python",
   "name": "mytorch"
  },
  "language_info": {
   "codemirror_mode": {
    "name": "ipython",
    "version": 3
   },
   "file_extension": ".py",
   "mimetype": "text/x-python",
   "name": "python",
   "nbconvert_exporter": "python",
   "pygments_lexer": "ipython3",
   "version": "3.10.4"
  }
 },
 "nbformat": 4,
 "nbformat_minor": 5
}
