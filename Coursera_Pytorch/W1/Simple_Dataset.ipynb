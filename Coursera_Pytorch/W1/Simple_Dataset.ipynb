{
 "cells": [
  {
   "cell_type": "code",
   "execution_count": 6,
   "id": "692ae645-c80d-4763-84b9-4d2b34a8dfe3",
   "metadata": {},
   "outputs": [],
   "source": [
    "from torch.utils.data import Dataset\n",
    "import torch"
   ]
  },
  {
   "cell_type": "markdown",
   "id": "c6683687-b656-4487-b6f1-690cd1926578",
   "metadata": {
    "tags": []
   },
   "source": [
    "## Dataset Object"
   ]
  },
  {
   "cell_type": "code",
   "execution_count": 32,
   "id": "2c88f923-1c0f-4d6d-8566-efe0f0894efc",
   "metadata": {},
   "outputs": [],
   "source": [
    "class toy_data(Dataset):\n",
    "    def __init__(self, length=100, transform = None):\n",
    "        self.x = 2*torch.ones(length,2)\n",
    "        self.y = torch.ones(length, 1)\n",
    "        self.len = length\n",
    "        self.transform = transform\n",
    "        \n",
    "    def __getitem__(self, index):\n",
    "        sample = self.x[index], self.y[index]\n",
    "        if self.transform:\n",
    "            sample = self.transform(sample)\n",
    "        return sample\n",
    "    \n",
    "    def __len__(self):\n",
    "        return self.len"
   ]
  },
  {
   "cell_type": "code",
   "execution_count": 33,
   "id": "512c11cc-b6ec-4dfe-85c9-c3da728fccd1",
   "metadata": {},
   "outputs": [],
   "source": [
    "#dataset object is in list, touple or any python iterable \n",
    "\n",
    "dataset = toy_data()"
   ]
  },
  {
   "cell_type": "code",
   "execution_count": 34,
   "id": "bfb870f7-0a17-4075-bd75-5fc5c10a9044",
   "metadata": {},
   "outputs": [
    {
     "name": "stdout",
     "output_type": "stream",
     "text": [
      "<__main__.toy_data object at 0x7fc8701f2530>\n"
     ]
    }
   ],
   "source": [
    "print(dataset)"
   ]
  },
  {
   "cell_type": "code",
   "execution_count": 35,
   "id": "696c497d-4749-4a3e-9545-e31565ef064c",
   "metadata": {},
   "outputs": [
    {
     "data": {
      "text/plain": [
       "100"
      ]
     },
     "execution_count": 35,
     "metadata": {},
     "output_type": "execute_result"
    }
   ],
   "source": [
    "len(dataset)"
   ]
  },
  {
   "cell_type": "code",
   "execution_count": 36,
   "id": "4cee0cd7-5239-4332-a057-bce5902bb770",
   "metadata": {},
   "outputs": [
    {
     "data": {
      "text/plain": [
       "(tensor([2., 2.]), tensor([1.]))"
      ]
     },
     "execution_count": 36,
     "metadata": {},
     "output_type": "execute_result"
    }
   ],
   "source": [
    "dataset[2]"
   ]
  },
  {
   "cell_type": "code",
   "execution_count": 37,
   "id": "a616cd5d-5bbf-424e-bfc9-7c5f884d53c0",
   "metadata": {},
   "outputs": [
    {
     "name": "stdout",
     "output_type": "stream",
     "text": [
      "0 X:  tensor([2., 2.]) Y:  tensor([1.])\n",
      "1 X:  tensor([2., 2.]) Y:  tensor([1.])\n",
      "2 X:  tensor([2., 2.]) Y:  tensor([1.])\n",
      "3 X:  tensor([2., 2.]) Y:  tensor([1.])\n",
      "4 X:  tensor([2., 2.]) Y:  tensor([1.])\n",
      "5 X:  tensor([2., 2.]) Y:  tensor([1.])\n",
      "6 X:  tensor([2., 2.]) Y:  tensor([1.])\n",
      "7 X:  tensor([2., 2.]) Y:  tensor([1.])\n",
      "8 X:  tensor([2., 2.]) Y:  tensor([1.])\n",
      "9 X:  tensor([2., 2.]) Y:  tensor([1.])\n",
      "10 X:  tensor([2., 2.]) Y:  tensor([1.])\n",
      "11 X:  tensor([2., 2.]) Y:  tensor([1.])\n",
      "12 X:  tensor([2., 2.]) Y:  tensor([1.])\n",
      "13 X:  tensor([2., 2.]) Y:  tensor([1.])\n",
      "14 X:  tensor([2., 2.]) Y:  tensor([1.])\n",
      "15 X:  tensor([2., 2.]) Y:  tensor([1.])\n",
      "16 X:  tensor([2., 2.]) Y:  tensor([1.])\n",
      "17 X:  tensor([2., 2.]) Y:  tensor([1.])\n",
      "18 X:  tensor([2., 2.]) Y:  tensor([1.])\n",
      "19 X:  tensor([2., 2.]) Y:  tensor([1.])\n",
      "20 X:  tensor([2., 2.]) Y:  tensor([1.])\n",
      "21 X:  tensor([2., 2.]) Y:  tensor([1.])\n",
      "22 X:  tensor([2., 2.]) Y:  tensor([1.])\n",
      "23 X:  tensor([2., 2.]) Y:  tensor([1.])\n",
      "24 X:  tensor([2., 2.]) Y:  tensor([1.])\n",
      "25 X:  tensor([2., 2.]) Y:  tensor([1.])\n",
      "26 X:  tensor([2., 2.]) Y:  tensor([1.])\n",
      "27 X:  tensor([2., 2.]) Y:  tensor([1.])\n",
      "28 X:  tensor([2., 2.]) Y:  tensor([1.])\n",
      "29 X:  tensor([2., 2.]) Y:  tensor([1.])\n",
      "30 X:  tensor([2., 2.]) Y:  tensor([1.])\n",
      "31 X:  tensor([2., 2.]) Y:  tensor([1.])\n",
      "32 X:  tensor([2., 2.]) Y:  tensor([1.])\n",
      "33 X:  tensor([2., 2.]) Y:  tensor([1.])\n",
      "34 X:  tensor([2., 2.]) Y:  tensor([1.])\n",
      "35 X:  tensor([2., 2.]) Y:  tensor([1.])\n",
      "36 X:  tensor([2., 2.]) Y:  tensor([1.])\n",
      "37 X:  tensor([2., 2.]) Y:  tensor([1.])\n",
      "38 X:  tensor([2., 2.]) Y:  tensor([1.])\n",
      "39 X:  tensor([2., 2.]) Y:  tensor([1.])\n",
      "40 X:  tensor([2., 2.]) Y:  tensor([1.])\n",
      "41 X:  tensor([2., 2.]) Y:  tensor([1.])\n",
      "42 X:  tensor([2., 2.]) Y:  tensor([1.])\n",
      "43 X:  tensor([2., 2.]) Y:  tensor([1.])\n",
      "44 X:  tensor([2., 2.]) Y:  tensor([1.])\n",
      "45 X:  tensor([2., 2.]) Y:  tensor([1.])\n",
      "46 X:  tensor([2., 2.]) Y:  tensor([1.])\n",
      "47 X:  tensor([2., 2.]) Y:  tensor([1.])\n",
      "48 X:  tensor([2., 2.]) Y:  tensor([1.])\n",
      "49 X:  tensor([2., 2.]) Y:  tensor([1.])\n",
      "50 X:  tensor([2., 2.]) Y:  tensor([1.])\n",
      "51 X:  tensor([2., 2.]) Y:  tensor([1.])\n",
      "52 X:  tensor([2., 2.]) Y:  tensor([1.])\n",
      "53 X:  tensor([2., 2.]) Y:  tensor([1.])\n",
      "54 X:  tensor([2., 2.]) Y:  tensor([1.])\n",
      "55 X:  tensor([2., 2.]) Y:  tensor([1.])\n",
      "56 X:  tensor([2., 2.]) Y:  tensor([1.])\n",
      "57 X:  tensor([2., 2.]) Y:  tensor([1.])\n",
      "58 X:  tensor([2., 2.]) Y:  tensor([1.])\n",
      "59 X:  tensor([2., 2.]) Y:  tensor([1.])\n",
      "60 X:  tensor([2., 2.]) Y:  tensor([1.])\n",
      "61 X:  tensor([2., 2.]) Y:  tensor([1.])\n",
      "62 X:  tensor([2., 2.]) Y:  tensor([1.])\n",
      "63 X:  tensor([2., 2.]) Y:  tensor([1.])\n",
      "64 X:  tensor([2., 2.]) Y:  tensor([1.])\n",
      "65 X:  tensor([2., 2.]) Y:  tensor([1.])\n",
      "66 X:  tensor([2., 2.]) Y:  tensor([1.])\n",
      "67 X:  tensor([2., 2.]) Y:  tensor([1.])\n",
      "68 X:  tensor([2., 2.]) Y:  tensor([1.])\n",
      "69 X:  tensor([2., 2.]) Y:  tensor([1.])\n",
      "70 X:  tensor([2., 2.]) Y:  tensor([1.])\n",
      "71 X:  tensor([2., 2.]) Y:  tensor([1.])\n",
      "72 X:  tensor([2., 2.]) Y:  tensor([1.])\n",
      "73 X:  tensor([2., 2.]) Y:  tensor([1.])\n",
      "74 X:  tensor([2., 2.]) Y:  tensor([1.])\n",
      "75 X:  tensor([2., 2.]) Y:  tensor([1.])\n",
      "76 X:  tensor([2., 2.]) Y:  tensor([1.])\n",
      "77 X:  tensor([2., 2.]) Y:  tensor([1.])\n",
      "78 X:  tensor([2., 2.]) Y:  tensor([1.])\n",
      "79 X:  tensor([2., 2.]) Y:  tensor([1.])\n",
      "80 X:  tensor([2., 2.]) Y:  tensor([1.])\n",
      "81 X:  tensor([2., 2.]) Y:  tensor([1.])\n",
      "82 X:  tensor([2., 2.]) Y:  tensor([1.])\n",
      "83 X:  tensor([2., 2.]) Y:  tensor([1.])\n",
      "84 X:  tensor([2., 2.]) Y:  tensor([1.])\n",
      "85 X:  tensor([2., 2.]) Y:  tensor([1.])\n",
      "86 X:  tensor([2., 2.]) Y:  tensor([1.])\n",
      "87 X:  tensor([2., 2.]) Y:  tensor([1.])\n",
      "88 X:  tensor([2., 2.]) Y:  tensor([1.])\n",
      "89 X:  tensor([2., 2.]) Y:  tensor([1.])\n",
      "90 X:  tensor([2., 2.]) Y:  tensor([1.])\n",
      "91 X:  tensor([2., 2.]) Y:  tensor([1.])\n",
      "92 X:  tensor([2., 2.]) Y:  tensor([1.])\n",
      "93 X:  tensor([2., 2.]) Y:  tensor([1.])\n",
      "94 X:  tensor([2., 2.]) Y:  tensor([1.])\n",
      "95 X:  tensor([2., 2.]) Y:  tensor([1.])\n",
      "96 X:  tensor([2., 2.]) Y:  tensor([1.])\n",
      "97 X:  tensor([2., 2.]) Y:  tensor([1.])\n",
      "98 X:  tensor([2., 2.]) Y:  tensor([1.])\n",
      "99 X:  tensor([2., 2.]) Y:  tensor([1.])\n"
     ]
    }
   ],
   "source": [
    "for i in range(len(dataset)):\n",
    "    x, y = dataset[i]\n",
    "    print(i, \"X: \", x, \"Y: \", y)"
   ]
  },
  {
   "cell_type": "markdown",
   "id": "c53cc8e7-077f-47ae-a3db-aa4c6139f8b1",
   "metadata": {},
   "source": [
    "## Transform"
   ]
  },
  {
   "cell_type": "code",
   "execution_count": 44,
   "id": "9bace0e9-dd16-4b09-b35f-4e8490a24440",
   "metadata": {},
   "outputs": [],
   "source": [
    "class add_mul(object):\n",
    "    \n",
    "    def __init__(self, addx = 10,muly = 20):\n",
    "        self.addx = addx\n",
    "        self.muly = muly\n",
    "        \n",
    "    def __call__(self, sample):\n",
    "        x = sample[0]\n",
    "        y = sample[1]\n",
    "        x = x+self.addx\n",
    "        y = y*self.muly\n",
    "        \n",
    "        sample = x, y\n",
    "        \n",
    "        return sample"
   ]
  },
  {
   "cell_type": "code",
   "execution_count": 52,
   "id": "e07d23c0-7baf-40d6-bfba-975a3190b09e",
   "metadata": {},
   "outputs": [],
   "source": [
    "# Transform by creating transform object\n",
    "a_m = add_mul()\n",
    "x_, y_ = a_m(dataset[10])"
   ]
  },
  {
   "cell_type": "code",
   "execution_count": 53,
   "id": "8bf724da-8738-4f61-a119-98fee481f55f",
   "metadata": {},
   "outputs": [
    {
     "data": {
      "text/plain": [
       "tensor([20.])"
      ]
     },
     "execution_count": 53,
     "metadata": {},
     "output_type": "execute_result"
    }
   ],
   "source": [
    "y_"
   ]
  },
  {
   "cell_type": "code",
   "execution_count": 58,
   "id": "a419cc5d-a51b-4d86-b456-5599cb429273",
   "metadata": {},
   "outputs": [],
   "source": [
    "# Automatically apply the method when we call the method\n",
    "\n",
    "a_m = add_mul()\n",
    "dataset_ = toy_data(transform = a_m)  #_to signify that the transform method is applied"
   ]
  },
  {
   "cell_type": "code",
   "execution_count": 59,
   "id": "4355564c-9bc9-4755-8ea5-e224c2940303",
   "metadata": {},
   "outputs": [
    {
     "data": {
      "text/plain": [
       "(tensor([12., 12.]), tensor([20.]))"
      ]
     },
     "execution_count": 59,
     "metadata": {},
     "output_type": "execute_result"
    }
   ],
   "source": [
    "dataset_[2]"
   ]
  },
  {
   "cell_type": "markdown",
   "id": "8dd8f97b-2044-4655-b845-2311433f4d73",
   "metadata": {},
   "source": [
    "## Transform Compose"
   ]
  },
  {
   "cell_type": "code",
   "execution_count": 62,
   "id": "8d0db7f0-ec46-400a-8420-4520d674cb90",
   "metadata": {},
   "outputs": [],
   "source": [
    "from torchvision import transforms"
   ]
  },
  {
   "cell_type": "code",
   "execution_count": 63,
   "id": "77f2b852-6a7e-458e-8e8f-4a6e03d3c4f5",
   "metadata": {},
   "outputs": [],
   "source": [
    "class mult(object):\n",
    "    def __init__(self, mul = 100):\n",
    "        self.mul = mul\n",
    "        \n",
    "    def __call__(self, sample):\n",
    "        x = sample[0]\n",
    "        y = sample[1]\n",
    "        \n",
    "        x = x * self.mul\n",
    "        y = y * self.mul\n",
    "        \n",
    "        sample = x, y\n",
    "        \n",
    "        return sample"
   ]
  },
  {
   "cell_type": "code",
   "execution_count": 65,
   "id": "1996778b-6ee2-4236-80ab-d4f4a8419cee",
   "metadata": {},
   "outputs": [],
   "source": [
    "data_transform = transforms.Compose([add_mul(), mult()])"
   ]
  },
  {
   "cell_type": "code",
   "execution_count": 66,
   "id": "0026d76f-f8af-4d8b-a51b-ec25beb8775f",
   "metadata": {},
   "outputs": [],
   "source": [
    "x_, y_ = data_transform(dataset[0])"
   ]
  },
  {
   "cell_type": "code",
   "execution_count": 67,
   "id": "20aa7fa4-ad4d-494b-b0c3-eed8cf199382",
   "metadata": {},
   "outputs": [
    {
     "data": {
      "text/plain": [
       "tensor([1200., 1200.])"
      ]
     },
     "execution_count": 67,
     "metadata": {},
     "output_type": "execute_result"
    }
   ],
   "source": [
    "x_"
   ]
  },
  {
   "cell_type": "code",
   "execution_count": 68,
   "id": "17502c02-eda7-498e-a8ff-0faac94918ec",
   "metadata": {},
   "outputs": [
    {
     "data": {
      "text/plain": [
       "tensor([2000.])"
      ]
     },
     "execution_count": 68,
     "metadata": {},
     "output_type": "execute_result"
    }
   ],
   "source": [
    "y_"
   ]
  },
  {
   "cell_type": "code",
   "execution_count": 69,
   "id": "d0564435-1a42-4faa-8198-f71182354f72",
   "metadata": {},
   "outputs": [],
   "source": [
    "# other approach\n",
    "\n",
    "data_set_Transformed = toy_data(transform = data_transform)"
   ]
  },
  {
   "cell_type": "code",
   "execution_count": 71,
   "id": "002f9b31-a593-4ea1-aa11-67e5318da1e3",
   "metadata": {},
   "outputs": [
    {
     "data": {
      "text/plain": [
       "(tensor([1200., 1200.]), tensor([2000.]))"
      ]
     },
     "execution_count": 71,
     "metadata": {},
     "output_type": "execute_result"
    }
   ],
   "source": [
    "data_set_Transformed[19]"
   ]
  },
  {
   "cell_type": "code",
   "execution_count": null,
   "id": "8dc6ca5c-0cee-4f77-a4ad-062dea788566",
   "metadata": {},
   "outputs": [],
   "source": []
  }
 ],
 "metadata": {
  "kernelspec": {
   "display_name": "myTorch",
   "language": "python",
   "name": "mytorch"
  },
  "language_info": {
   "codemirror_mode": {
    "name": "ipython",
    "version": 3
   },
   "file_extension": ".py",
   "mimetype": "text/x-python",
   "name": "python",
   "nbconvert_exporter": "python",
   "pygments_lexer": "ipython3",
   "version": "3.10.4"
  }
 },
 "nbformat": 4,
 "nbformat_minor": 5
}
