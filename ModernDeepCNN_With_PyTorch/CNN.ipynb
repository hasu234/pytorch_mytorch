{
 "cells": [
  {
   "cell_type": "code",
   "execution_count": 1,
   "metadata": {
    "id": "DUvLXarVSNNG"
   },
   "outputs": [],
   "source": [
    "import torch\n",
    "import torch.nn as nn\n",
    "import torch.optim as optim\n",
    "import torch.nn.functional as F\n",
    "import torch.backends.cudnn as cudnn\n",
    "import torch.utils.data as data\n",
    "\n",
    "import torchvision\n",
    "import torchvision.transforms as transforms\n",
    "import torchvision.datasets as datasets\n",
    "\n",
    "import matplotlib.pyplot as plt\n",
    "import numpy as np"
   ]
  },
  {
   "cell_type": "code",
   "execution_count": 2,
   "metadata": {
    "colab": {
     "base_uri": "https://localhost:8080/",
     "height": 101,
     "referenced_widgets": [
      "e854193be587474bba398edaa0a57acd",
      "bf6af12ca2bf4d62b0d2f6f916ad2090",
      "acae3e756af04f19aeab624842c4aea8",
      "8e58b0a710d849e5af6a8cfec4353deb",
      "4563245c2db24d72bee0ea917d35d599",
      "e511a2cf92094029816c4024f0c14ffc",
      "45d5a04e8bc4466fa88fa4a89cdb3ea9",
      "1cff34cee74e44369b9d193ea536c9a9",
      "d212790dbf50492489786f0ff057cedc",
      "087e2cd172904d67b3b8a3ea9a1153a9",
      "f196eb6ae9724dfe82ed4349a12921b8"
     ]
    },
    "id": "IsOonq84TKaE",
    "outputId": "6d8be105-90ba-4eba-d733-df544d2bca16"
   },
   "outputs": [
    {
     "name": "stdout",
     "output_type": "stream",
     "text": [
      "Files already downloaded and verified\n",
      "Files already downloaded and verified\n"
     ]
    }
   ],
   "source": [
    "transform = transforms.Compose([\n",
    "    transforms.ToTensor(),\n",
    "    transforms.Normalize((0.5, 0.5, 0.5), (0.5, 0.5, 0.5))\n",
    "])\n",
    "\n",
    "trainset = datasets.CIFAR10(root = \"content/\", train = True, download = True, transform = transform)\n",
    "trainloader = data.DataLoader(trainset, batch_size = 4, shuffle = False, num_workers = 2)\n",
    "\n",
    "testset = datasets.CIFAR10(root = \"content/\", train = False, download = True, transform = transform)\n",
    "testloader = data.DataLoader(testset, batch_size = 4, shuffle = False, num_workers = 2)\n",
    "\n",
    "classes = ('plane', 'car', 'bird', 'cat', 'deer', 'dog', 'frog', 'horse', 'ship', 'truck')"
   ]
  },
  {
   "cell_type": "code",
   "execution_count": 3,
   "metadata": {
    "colab": {
     "base_uri": "https://localhost:8080/",
     "height": 212
    },
    "id": "bVVDGoUcVCSu",
    "outputId": "78584d08-46fb-4c32-9234-dd68349cc932"
   },
   "outputs": [
    {
     "data": {
      "image/png": "[encoded data removed]",
      "text/plain": [
       "<Figure size 1000x1000 with 1 Axes>"
      ]
     },
     "metadata": {},
     "output_type": "display_data"
    },
    {
     "name": "stdout",
     "output_type": "stream",
     "text": [
      " frog\t \ttruck\t \ttruck\t \t deer\n"
     ]
    }
   ],
   "source": [
    "def imshow(img):\n",
    "  plt.figure(figsize=(10, 10))\n",
    "  img = img /2 + 0.5  #Unnormalize\n",
    "  npimg = img.numpy()\n",
    "  plt.imshow(np.transpose(npimg, (1, 2, 0)))\n",
    "  plt.show()\n",
    "\n",
    "\n",
    "#get some random training image\n",
    "dataiter = iter(trainloader)\n",
    "images, labels = dataiter.next()\n",
    "\n",
    "#show image\n",
    "imshow(torchvision.utils.make_grid(images))\n",
    "\n",
    "#print label\n",
    "print('\\t \\t'.join('%5s' % classes[labels[j]] for j in range (4)))"
   ]
  },
  {
   "cell_type": "code",
   "execution_count": 77,
   "metadata": {
    "id": "p7PB2ERRWbxw"
   },
   "outputs": [],
   "source": [
    "class ConvNet(nn.Module):\n",
    "\n",
    "  def __init__(self, n_channels, n_output_neurons):\n",
    "    super().__init__()\n",
    "\n",
    "    self.main = nn.Sequential(\n",
    "        nn.Conv2d(n_channels, 64, kernel_size=5, stride=2, padding=0),\n",
    "        nn.ReLU(inplace = True),\n",
    "        nn.Conv2d(64, 128, kernel_size=5, stride=2, padding=0),\n",
    "        nn.ReLU(inplace = True),\n",
    "        nn.Conv2d(128, 256, kernel_size=5, stride=2, padding=0),\n",
    "        nn.ReLU(inplace = True),\n",
    "    )\n",
    "    \n",
    "    self.mlp = nn.Sequential(\n",
    "        nn.Linear(256, 128),\n",
    "        nn.LeakyReLU(inplace = True),\n",
    "        nn.Linear(128, n_output_neurons),\n",
    "    )\n",
    "\n",
    "  def forward(self, x):\n",
    "    #where x has a shape [batch_size, number of channel, height, width]\n",
    "    batch_size = x.shape[0]\n",
    "    \n",
    "    x = self.main(x) #will return x shape [batch_size, 64, 1, 1]\n",
    "    \n",
    "    x = x.view(batch_size, -1)\n",
    "    \n",
    "    \n",
    "    return self.mlp(x)\n"
   ]
  },
  {
   "cell_type": "code",
   "execution_count": 78,
   "metadata": {
    "id": "Ch3NZudA36BI"
   },
   "outputs": [],
   "source": [
    "height, width = images.shape[2:]"
   ]
  },
  {
   "cell_type": "code",
   "execution_count": 79,
   "metadata": {
    "colab": {
     "base_uri": "https://localhost:8080/"
    },
    "id": "T_5tBdrV4Hfh",
    "outputId": "a1b8eb52-533d-45fe-f923-9049fde4fe4b"
   },
   "outputs": [
    {
     "data": {
      "text/plain": [
       "torch.Size([4, 3, 32, 32])"
      ]
     },
     "execution_count": 79,
     "metadata": {},
     "output_type": "execute_result"
    }
   ],
   "source": [
    "images.shape"
   ]
  },
  {
   "cell_type": "code",
   "execution_count": 80,
   "metadata": {
    "id": "_vlay2xm4K6b"
   },
   "outputs": [],
   "source": [
    "net = ConvNet(n_channels = 3, n_output_neurons=10) #number of classes 10, .cuda() if GPU available"
   ]
  },
  {
   "cell_type": "code",
   "execution_count": 81,
   "metadata": {},
   "outputs": [
    {
     "data": {
      "text/plain": [
       "torch.Size([4, 10])"
      ]
     },
     "execution_count": 81,
     "metadata": {},
     "output_type": "execute_result"
    }
   ],
   "source": [
    "net(images).shape"
   ]
  },
  {
   "cell_type": "code",
   "execution_count": 82,
   "metadata": {
    "id": "oRZzgKdz4faW"
   },
   "outputs": [],
   "source": [
    "criterion = nn.CrossEntropyLoss()\n",
    "optimizer = optim.Adam(net.parameters(), lr = 0.001)"
   ]
  },
  {
   "cell_type": "code",
   "execution_count": 83,
   "metadata": {
    "colab": {
     "base_uri": "https://localhost:8080/"
    },
    "id": "oHafuoWy5FFq",
    "outputId": "424d9142-2286-41c2-ceba-edf6844dae25"
   },
   "outputs": [
    {
     "name": "stdout",
     "output_type": "stream",
     "text": [
      "[1,  2000]  loss: 1.857\n",
      "[1,  4000]  loss: 1.638\n",
      "[1,  6000]  loss: 1.537\n",
      "[1,  8000]  loss: 1.447\n",
      "[1, 10000]  loss: 1.460\n",
      "[1, 12000]  loss: 1.404\n",
      "[2,  2000]  loss: 1.348\n",
      "[2,  4000]  loss: 1.329\n",
      "[2,  6000]  loss: 1.264\n",
      "[2,  8000]  loss: 1.239\n",
      "[2, 10000]  loss: 1.252\n",
      "[2, 12000]  loss: 1.213\n",
      "[3,  2000]  loss: 1.176\n",
      "[3,  4000]  loss: 1.168\n",
      "[3,  6000]  loss: 1.135\n",
      "[3,  8000]  loss: 1.106\n",
      "[3, 10000]  loss: 1.137\n",
      "[3, 12000]  loss: 1.095\n",
      "[4,  2000]  loss: 1.069\n",
      "[4,  4000]  loss: 1.084\n",
      "[4,  6000]  loss: 1.064\n",
      "[4,  8000]  loss: 1.020\n",
      "[4, 10000]  loss: 1.055\n",
      "[4, 12000]  loss: 1.001\n",
      "[5,  2000]  loss: 0.968\n",
      "[5,  4000]  loss: 1.000\n",
      "[5,  6000]  loss: 0.976\n",
      "[5,  8000]  loss: 0.947\n",
      "[5, 10000]  loss: 0.976\n",
      "[5, 12000]  loss: 0.937\n",
      "Finish Training!\n"
     ]
    }
   ],
   "source": [
    "for epoch in range(5):\n",
    "\n",
    "  running_loss = 0.0\n",
    "\n",
    "  for i, data in enumerate(trainloader, 0):\n",
    "    images, labels = data\n",
    "    # images, labels = images.cuda(), labels.cuda()\n",
    "\n",
    "    #gradients to zero\n",
    "    optimizer.zero_grad()\n",
    "\n",
    "    #forward pass and loss\n",
    "    output = net(images)\n",
    "    loss = criterion(output, labels)\n",
    "\n",
    "    loss.backward()\n",
    "    optimizer.step()\n",
    "\n",
    "    #print progress\n",
    "    running_loss += loss.item()\n",
    "    if i % 2000 == 1999:\n",
    "      print('[%d, %5d]  loss: %.3f' %\n",
    "            (epoch + 1, i + 1, running_loss / 2000))\n",
    "      running_loss = 0.0\n",
    "        \n",
    "print(\"Finish Training!\")"
   ]
  },
  {
   "cell_type": "code",
   "execution_count": 84,
   "metadata": {
    "id": "JLBA-NkT8E7P"
   },
   "outputs": [],
   "source": [
    "def get_accuracy(net):\n",
    "  correct = 0\n",
    "  total = 0\n",
    "  with torch.no_grad():\n",
    "    images, labels = data\n",
    "    # print(images.shape)\n",
    "    # images, labels = images.cuda(), labels.cuda()\n",
    "    outputs = net(images)\n",
    "    _, predicted = torch.max(outputs.data, 1)\n",
    "    total += labels.size(0)\n",
    "    correct += (predicted == labels).sum().item()\n",
    "\n",
    "  print(\"Accuracy on test image : %d %%\" % (100 * (correct / total)))"
   ]
  },
  {
   "cell_type": "code",
   "execution_count": 85,
   "metadata": {
    "colab": {
     "base_uri": "https://localhost:8080/"
    },
    "id": "l-IrrKpX-oPN",
    "outputId": "b282917c-19e9-4536-a4d4-2a741caa77b2"
   },
   "outputs": [
    {
     "name": "stdout",
     "output_type": "stream",
     "text": [
      "Accuracy on test image : 75 %\n"
     ]
    }
   ],
   "source": [
    "get_accuracy(net)"
   ]
  },
  {
   "cell_type": "code",
   "execution_count": null,
   "metadata": {},
   "outputs": [],
   "source": []
  }
 ],
 "metadata": {
  "colab": {
   "provenance": []
  },
  "kernelspec": {
   "display_name": "Python 3.10.4 ('myTorch')",
   "language": "python",
   "name": "python3"
  },
  "language_info": {
   "codemirror_mode": {
    "name": "ipython",
    "version": 3
   },
   "file_extension": ".py",
   "mimetype": "text/x-python",
   "name": "python",
   "nbconvert_exporter": "python",
   "pygments_lexer": "ipython3",
   "version": "3.10.4"
  },
  "vscode": {
   "interpreter": {
    "hash": "78ef15e882bbc129f89ee9099e1aaab39c651d14a390d785c5d0213ad6c5a11c"
   }
  },
  "widgets": {
   "application/vnd.jupyter.widget-state+json": {
    "087e2cd172904d67b3b8a3ea9a1153a9": {
     "model_module": "@jupyter-widgets/base",
     "model_module_version": "1.2.0",
     "model_name": "LayoutModel",
     "state": {
      "_model_module": "@jupyter-widgets/base",
      "_model_module_version": "1.2.0",
      "_model_name": "LayoutModel",
      "_view_count": null,
      "_view_module": "@jupyter-widgets/base",
      "_view_module_version": "1.2.0",
      "_view_name": "LayoutView",
      "align_content": null,
      "align_items": null,
      "align_self": null,
      "border": null,
      "bottom": null,
      "display": null,
      "flex": null,
      "flex_flow": null,
      "grid_area": null,
      "grid_auto_columns": null,
      "grid_auto_flow": null,
      "grid_auto_rows": null,
      "grid_column": null,
      "grid_gap": null,
      "grid_row": null,
      "grid_template_areas": null,
      "grid_template_columns": null,
      "grid_template_rows": null,
      "height": null,
      "justify_content": null,
      "justify_items": null,
      "left": null,
      "margin": null,
      "max_height": null,
      "max_width": null,
      "min_height": null,
      "min_width": null,
      "object_fit": null,
      "object_position": null,
      "order": null,
      "overflow": null,
      "overflow_x": null,
      "overflow_y": null,
      "padding": null,
      "right": null,
      "top": null,
      "visibility": null,
      "width": null
     }
    },
    "1cff34cee74e44369b9d193ea536c9a9": {
     "model_module": "@jupyter-widgets/base",
     "model_module_version": "1.2.0",
     "model_name": "LayoutModel",
     "state": {
      "_model_module": "@jupyter-widgets/base",
      "_model_module_version": "1.2.0",
      "_model_name": "LayoutModel",
      "_view_count": null,
      "_view_module": "@jupyter-widgets/base",
      "_view_module_version": "1.2.0",
      "_view_name": "LayoutView",
      "align_content": null,
      "align_items": null,
      "align_self": null,
      "border": null,
      "bottom": null,
      "display": null,
      "flex": null,
      "flex_flow": null,
      "grid_area": null,
      "grid_auto_columns": null,
      "grid_auto_flow": null,
      "grid_auto_rows": null,
      "grid_column": null,
      "grid_gap": null,
      "grid_row": null,
      "grid_template_areas": null,
      "grid_template_columns": null,
      "grid_template_rows": null,
      "height": null,
      "justify_content": null,
      "justify_items": null,
      "left": null,
      "margin": null,
      "max_height": null,
      "max_width": null,
      "min_height": null,
      "min_width": null,
      "object_fit": null,
      "object_position": null,
      "order": null,
      "overflow": null,
      "overflow_x": null,
      "overflow_y": null,
      "padding": null,
      "right": null,
      "top": null,
      "visibility": null,
      "width": null
     }
    },
    "4563245c2db24d72bee0ea917d35d599": {
     "model_module": "@jupyter-widgets/base",
     "model_module_version": "1.2.0",
     "model_name": "LayoutModel",
     "state": {
      "_model_module": "@jupyter-widgets/base",
      "_model_module_version": "1.2.0",
      "_model_name": "LayoutModel",
      "_view_count": null,
      "_view_module": "@jupyter-widgets/base",
      "_view_module_version": "1.2.0",
      "_view_name": "LayoutView",
      "align_content": null,
      "align_items": null,
      "align_self": null,
      "border": null,
      "bottom": null,
      "display": null,
      "flex": null,
      "flex_flow": null,
      "grid_area": null,
      "grid_auto_columns": null,
      "grid_auto_flow": null,
      "grid_auto_rows": null,
      "grid_column": null,
      "grid_gap": null,
      "grid_row": null,
      "grid_template_areas": null,
      "grid_template_columns": null,
      "grid_template_rows": null,
      "height": null,
      "justify_content": null,
      "justify_items": null,
      "left": null,
      "margin": null,
      "max_height": null,
      "max_width": null,
      "min_height": null,
      "min_width": null,
      "object_fit": null,
      "object_position": null,
      "order": null,
      "overflow": null,
      "overflow_x": null,
      "overflow_y": null,
      "padding": null,
      "right": null,
      "top": null,
      "visibility": null,
      "width": null
     }
    },
    "45d5a04e8bc4466fa88fa4a89cdb3ea9": {
     "model_module": "@jupyter-widgets/controls",
     "model_module_version": "1.5.0",
     "model_name": "DescriptionStyleModel",
     "state": {
      "_model_module": "@jupyter-widgets/controls",
      "_model_module_version": "1.5.0",
      "_model_name": "DescriptionStyleModel",
      "_view_count": null,
      "_view_module": "@jupyter-widgets/base",
      "_view_module_version": "1.2.0",
      "_view_name": "StyleView",
      "description_width": ""
     }
    },
    "8e58b0a710d849e5af6a8cfec4353deb": {
     "model_module": "@jupyter-widgets/controls",
     "model_module_version": "1.5.0",
     "model_name": "HTMLModel",
     "state": {
      "_dom_classes": [],
      "_model_module": "@jupyter-widgets/controls",
      "_model_module_version": "1.5.0",
      "_model_name": "HTMLModel",
      "_view_count": null,
      "_view_module": "@jupyter-widgets/controls",
      "_view_module_version": "1.5.0",
      "_view_name": "HTMLView",
      "description": "",
      "description_tooltip": null,
      "layout": "IPY_MODEL_087e2cd172904d67b3b8a3ea9a1153a9",
      "placeholder": "​",
      "style": "IPY_MODEL_f196eb6ae9724dfe82ed4349a12921b8",
      "value": " 170498071/170498071 [00:12&lt;00:00, 16893116.65it/s]"
     }
    },
    "acae3e756af04f19aeab624842c4aea8": {
     "model_module": "@jupyter-widgets/controls",
     "model_module_version": "1.5.0",
     "model_name": "FloatProgressModel",
     "state": {
      "_dom_classes": [],
      "_model_module": "@jupyter-widgets/controls",
      "_model_module_version": "1.5.0",
      "_model_name": "FloatProgressModel",
      "_view_count": null,
      "_view_module": "@jupyter-widgets/controls",
      "_view_module_version": "1.5.0",
      "_view_name": "ProgressView",
      "bar_style": "success",
      "description": "",
      "description_tooltip": null,
      "layout": "IPY_MODEL_1cff34cee74e44369b9d193ea536c9a9",
      "max": 170498071,
      "min": 0,
      "orientation": "horizontal",
      "style": "IPY_MODEL_d212790dbf50492489786f0ff057cedc",
      "value": 170498071
     }
    },
    "bf6af12ca2bf4d62b0d2f6f916ad2090": {
     "model_module": "@jupyter-widgets/controls",
     "model_module_version": "1.5.0",
     "model_name": "HTMLModel",
     "state": {
      "_dom_classes": [],
      "_model_module": "@jupyter-widgets/controls",
      "_model_module_version": "1.5.0",
      "_model_name": "HTMLModel",
      "_view_count": null,
      "_view_module": "@jupyter-widgets/controls",
      "_view_module_version": "1.5.0",
      "_view_name": "HTMLView",
      "description": "",
      "description_tooltip": null,
      "layout": "IPY_MODEL_e511a2cf92094029816c4024f0c14ffc",
      "placeholder": "​",
      "style": "IPY_MODEL_45d5a04e8bc4466fa88fa4a89cdb3ea9",
      "value": "100%"
     }
    },
    "d212790dbf50492489786f0ff057cedc": {
     "model_module": "@jupyter-widgets/controls",
     "model_module_version": "1.5.0",
     "model_name": "ProgressStyleModel",
     "state": {
      "_model_module": "@jupyter-widgets/controls",
      "_model_module_version": "1.5.0",
      "_model_name": "ProgressStyleModel",
      "_view_count": null,
      "_view_module": "@jupyter-widgets/base",
      "_view_module_version": "1.2.0",
      "_view_name": "StyleView",
      "bar_color": null,
      "description_width": ""
     }
    },
    "e511a2cf92094029816c4024f0c14ffc": {
     "model_module": "@jupyter-widgets/base",
     "model_module_version": "1.2.0",
     "model_name": "LayoutModel",
     "state": {
      "_model_module": "@jupyter-widgets/base",
      "_model_module_version": "1.2.0",
      "_model_name": "LayoutModel",
      "_view_count": null,
      "_view_module": "@jupyter-widgets/base",
      "_view_module_version": "1.2.0",
      "_view_name": "LayoutView",
      "align_content": null,
      "align_items": null,
      "align_self": null,
      "border": null,
      "bottom": null,
      "display": null,
      "flex": null,
      "flex_flow": null,
      "grid_area": null,
      "grid_auto_columns": null,
      "grid_auto_flow": null,
      "grid_auto_rows": null,
      "grid_column": null,
      "grid_gap": null,
      "grid_row": null,
      "grid_template_areas": null,
      "grid_template_columns": null,
      "grid_template_rows": null,
      "height": null,
      "justify_content": null,
      "justify_items": null,
      "left": null,
      "margin": null,
      "max_height": null,
      "max_width": null,
      "min_height": null,
      "min_width": null,
      "object_fit": null,
      "object_position": null,
      "order": null,
      "overflow": null,
      "overflow_x": null,
      "overflow_y": null,
      "padding": null,
      "right": null,
      "top": null,
      "visibility": null,
      "width": null
     }
    },
    "e854193be587474bba398edaa0a57acd": {
     "model_module": "@jupyter-widgets/controls",
     "model_module_version": "1.5.0",
     "model_name": "HBoxModel",
     "state": {
      "_dom_classes": [],
      "_model_module": "@jupyter-widgets/controls",
      "_model_module_version": "1.5.0",
      "_model_name": "HBoxModel",
      "_view_count": null,
      "_view_module": "@jupyter-widgets/controls",
      "_view_module_version": "1.5.0",
      "_view_name": "HBoxView",
      "box_style": "",
      "children": [
       "IPY_MODEL_bf6af12ca2bf4d62b0d2f6f916ad2090",
       "IPY_MODEL_acae3e756af04f19aeab624842c4aea8",
       "IPY_MODEL_8e58b0a710d849e5af6a8cfec4353deb"
      ],
      "layout": "IPY_MODEL_4563245c2db24d72bee0ea917d35d599"
     }
    },
    "f196eb6ae9724dfe82ed4349a12921b8": {
     "model_module": "@jupyter-widgets/controls",
     "model_module_version": "1.5.0",
     "model_name": "DescriptionStyleModel",
     "state": {
      "_model_module": "@jupyter-widgets/controls",
      "_model_module_version": "1.5.0",
      "_model_name": "DescriptionStyleModel",
      "_view_count": null,
      "_view_module": "@jupyter-widgets/base",
      "_view_module_version": "1.2.0",
      "_view_name": "StyleView",
      "description_width": ""
     }
    }
   }
  }
 },
 "nbformat": 4,
 "nbformat_minor": 1
}
